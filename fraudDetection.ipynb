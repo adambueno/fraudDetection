{
  "nbformat": 4,
  "nbformat_minor": 0,
  "metadata": {
    "colab": {
      "provenance": [],
      "toc_visible": true,
      "mount_file_id": "1eF7trWDAU1LHxi_xvQ5LkBxkrLqswjhK",
      "authorship_tag": "ABX9TyMQ7PNc1M4bfy+D0hGWNuTz",
      "include_colab_link": true
    },
    "kernelspec": {
      "name": "python3",
      "display_name": "Python 3"
    },
    "language_info": {
      "name": "python"
    }
  },
  "cells": [
    {
      "cell_type": "markdown",
      "metadata": {
        "id": "view-in-github",
        "colab_type": "text"
      },
      "source": [
        "<a href=\"https://colab.research.google.com/github/adambueno/fraudDetection/blob/main/fraudDetection.ipynb\" target=\"_parent\"><img src=\"https://colab.research.google.com/assets/colab-badge.svg\" alt=\"Open In Colab\"/></a>"
      ]
    },
    {
      "cell_type": "markdown",
      "source": [
        "# Overview"
      ],
      "metadata": {
        "id": "Ah2kw4tehDz4"
      }
    },
    {
      "cell_type": "markdown",
      "source": [
        "TODO: Look into PCA and possibly implement that. <--- this\n",
        "https://scikit-learn.org/stable/auto_examples/decomposition/plot_pca_iris.html\n",
        "\n",
        "Adam Bueno's Fraud Detection data science research project\n",
        "\n",
        "TODO:\n",
        "\n",
        "Look into dealing with imbalanced data https://medium.com/@dakshrathi/handling-imbalanced-data-key-techniques-for-better-machine-learning-6e33b466f8b7\n",
        "https://www.reddit.com/r/MachineLearning/comments/1ir2zm3/dhow_to_handle_highly_imbalanced_dataset/\n",
        "\n",
        "SMOTE?"
      ],
      "metadata": {
        "id": "iOfDHpC3U4aD"
      }
    },
    {
      "cell_type": "markdown",
      "source": [
        "Final Question: To what extent can we predict fraud based on known factors?"
      ],
      "metadata": {
        "id": "9OimlT22OhdX"
      }
    },
    {
      "cell_type": "markdown",
      "source": [
        "# Importing all the modules"
      ],
      "metadata": {
        "id": "FEEFC6CGE3U1"
      }
    },
    {
      "cell_type": "code",
      "source": [
        "import warnings\n",
        "warnings.filterwarnings('ignore')\n",
        "\n",
        "import numpy as np\n",
        "import pandas as pd\n",
        "import matplotlib.pyplot as plt\n",
        "import seaborn as sns\n",
        "\n",
        "from sklearn import datasets, model_selection, metrics\n",
        "from sklearn.feature_selection import SelectKBest"
      ],
      "metadata": {
        "id": "-FcKI64LAhux"
      },
      "execution_count": 1,
      "outputs": []
    },
    {
      "cell_type": "markdown",
      "source": [
        "Linear Regression import"
      ],
      "metadata": {
        "id": "IOXx4KFgE58Z"
      }
    },
    {
      "cell_type": "code",
      "source": [
        "from sklearn.linear_model import LinearRegression"
      ],
      "metadata": {
        "id": "-YJj07GvDQ1B"
      },
      "execution_count": 2,
      "outputs": []
    },
    {
      "cell_type": "markdown",
      "source": [
        "K Nearest Neighbors import"
      ],
      "metadata": {
        "id": "16l6DNl6E-Kp"
      }
    },
    {
      "cell_type": "code",
      "source": [
        "from sklearn.neighbors import KNeighborsClassifier"
      ],
      "metadata": {
        "id": "TIXIYt4WE_-k"
      },
      "execution_count": 3,
      "outputs": []
    },
    {
      "cell_type": "markdown",
      "source": [
        "# Import and read csv"
      ],
      "metadata": {
        "id": "XdV9JjrPFEvq"
      }
    },
    {
      "cell_type": "code",
      "source": [
        "fraud_df = pd.read_csv('/content/drive/MyDrive/fraudDetection/synthetic_fraud_dataset.csv')"
      ],
      "metadata": {
        "id": "fZchewl5Cwm3"
      },
      "execution_count": 4,
      "outputs": []
    },
    {
      "cell_type": "code",
      "source": [
        "print(fraud_df.head(10))\n",
        "fraud_df.columns\n",
        "fraud_df.shape #50000 by 21\n",
        "fraud_df.info() # no nulls\n",
        "fraud_df.describe()"
      ],
      "metadata": {
        "id": "TYhtA9UfBBuk",
        "colab": {
          "base_uri": "https://localhost:8080/",
          "height": 1000
        },
        "outputId": "ca4dbc13-8c81-4c7f-c816-8eaa5891edb2"
      },
      "execution_count": 5,
      "outputs": [
        {
          "output_type": "stream",
          "name": "stdout",
          "text": [
            "  Transaction_ID    User_ID  Transaction_Amount Transaction_Type  \\\n",
            "0      TXN_33553  USER_1834               39.79              POS   \n",
            "1       TXN_9427  USER_7875                1.19    Bank Transfer   \n",
            "2        TXN_199  USER_2734               28.96           Online   \n",
            "3      TXN_12447  USER_2617              254.32   ATM Withdrawal   \n",
            "4      TXN_39489  USER_2014               31.28              POS   \n",
            "5      TXN_42724  USER_6852              168.55           Online   \n",
            "6      TXN_10822  USER_5052                3.79              POS   \n",
            "7      TXN_49498  USER_4660                7.08   ATM Withdrawal   \n",
            "8       TXN_4144  USER_1584               34.25   ATM Withdrawal   \n",
            "9      TXN_36958  USER_9498               16.24              POS   \n",
            "\n",
            "             Timestamp  Account_Balance Device_Type  Location  \\\n",
            "0  2023-08-14 19:30:00         93213.17      Laptop    Sydney   \n",
            "1  2023-06-07 04:01:00         75725.25      Mobile  New York   \n",
            "2  2023-06-20 15:25:00          1588.96      Tablet    Mumbai   \n",
            "3  2023-12-07 00:31:00         76807.20      Tablet  New York   \n",
            "4  2023-11-11 23:44:00         92354.66      Mobile    Mumbai   \n",
            "5  2023-06-05 20:55:00         33236.94      Laptop     Tokyo   \n",
            "6  2023-11-07 01:18:00         86834.18      Tablet    London   \n",
            "7  2023-02-25 03:43:00         45826.27      Tablet    London   \n",
            "8  2023-03-09 22:51:00         94392.35      Tablet     Tokyo   \n",
            "9  2023-09-20 17:27:00         91859.97      Mobile    Mumbai   \n",
            "\n",
            "  Merchant_Category  IP_Address_Flag  ...  Daily_Transaction_Count  \\\n",
            "0            Travel                0  ...                        7   \n",
            "1          Clothing                0  ...                       13   \n",
            "2       Restaurants                0  ...                       14   \n",
            "3          Clothing                0  ...                        8   \n",
            "4       Electronics                0  ...                       14   \n",
            "5       Restaurants                0  ...                        3   \n",
            "6       Restaurants                0  ...                        2   \n",
            "7       Restaurants                0  ...                        3   \n",
            "8          Clothing                0  ...                        7   \n",
            "9            Travel                0  ...                        6   \n",
            "\n",
            "   Avg_Transaction_Amount_7d  Failed_Transaction_Count_7d   Card_Type  \\\n",
            "0                     437.63                            3        Amex   \n",
            "1                     478.76                            4  Mastercard   \n",
            "2                      50.01                            4        Visa   \n",
            "3                     182.48                            4        Visa   \n",
            "4                     328.69                            4  Mastercard   \n",
            "5                     226.85                            2    Discover   \n",
            "6                     298.35                            2  Mastercard   \n",
            "7                     164.38                            4    Discover   \n",
            "8                      90.02                            3        Visa   \n",
            "9                     474.42                            1  Mastercard   \n",
            "\n",
            "  Card_Age  Transaction_Distance  Authentication_Method Risk_Score  \\\n",
            "0       65                883.17              Biometric     0.8494   \n",
            "1      186               2203.36               Password     0.0959   \n",
            "2      226               1909.29              Biometric     0.8400   \n",
            "3       76               1311.86                    OTP     0.7935   \n",
            "4      140                966.98               Password     0.3819   \n",
            "5       51               1725.64                    OTP     0.0504   \n",
            "6      168               3757.19               Password     0.0875   \n",
            "7      182               1764.66              Biometric     0.5326   \n",
            "8       24                550.38              Biometric     0.1347   \n",
            "9      124                720.91                    PIN     0.3394   \n",
            "\n",
            "   Is_Weekend  Fraud_Label  \n",
            "0           0            0  \n",
            "1           0            1  \n",
            "2           0            1  \n",
            "3           0            1  \n",
            "4           1            1  \n",
            "5           0            0  \n",
            "6           0            0  \n",
            "7           0            1  \n",
            "8           1            0  \n",
            "9           0            0  \n",
            "\n",
            "[10 rows x 21 columns]\n",
            "<class 'pandas.core.frame.DataFrame'>\n",
            "RangeIndex: 50000 entries, 0 to 49999\n",
            "Data columns (total 21 columns):\n",
            " #   Column                        Non-Null Count  Dtype  \n",
            "---  ------                        --------------  -----  \n",
            " 0   Transaction_ID                50000 non-null  object \n",
            " 1   User_ID                       50000 non-null  object \n",
            " 2   Transaction_Amount            50000 non-null  float64\n",
            " 3   Transaction_Type              50000 non-null  object \n",
            " 4   Timestamp                     50000 non-null  object \n",
            " 5   Account_Balance               50000 non-null  float64\n",
            " 6   Device_Type                   50000 non-null  object \n",
            " 7   Location                      50000 non-null  object \n",
            " 8   Merchant_Category             50000 non-null  object \n",
            " 9   IP_Address_Flag               50000 non-null  int64  \n",
            " 10  Previous_Fraudulent_Activity  50000 non-null  int64  \n",
            " 11  Daily_Transaction_Count       50000 non-null  int64  \n",
            " 12  Avg_Transaction_Amount_7d     50000 non-null  float64\n",
            " 13  Failed_Transaction_Count_7d   50000 non-null  int64  \n",
            " 14  Card_Type                     50000 non-null  object \n",
            " 15  Card_Age                      50000 non-null  int64  \n",
            " 16  Transaction_Distance          50000 non-null  float64\n",
            " 17  Authentication_Method         50000 non-null  object \n",
            " 18  Risk_Score                    50000 non-null  float64\n",
            " 19  Is_Weekend                    50000 non-null  int64  \n",
            " 20  Fraud_Label                   50000 non-null  int64  \n",
            "dtypes: float64(5), int64(7), object(9)\n",
            "memory usage: 8.0+ MB\n"
          ]
        },
        {
          "output_type": "execute_result",
          "data": {
            "text/plain": [
              "       Transaction_Amount  Account_Balance  IP_Address_Flag  \\\n",
              "count        50000.000000     50000.000000      50000.00000   \n",
              "mean            99.411012     50294.065981          0.05020   \n",
              "std             98.687292     28760.458557          0.21836   \n",
              "min              0.000000       500.480000          0.00000   \n",
              "25%             28.677500     25355.995000          0.00000   \n",
              "50%             69.660000     50384.430000          0.00000   \n",
              "75%            138.852500     75115.135000          0.00000   \n",
              "max           1174.140000     99998.310000          1.00000   \n",
              "\n",
              "       Previous_Fraudulent_Activity  Daily_Transaction_Count  \\\n",
              "count                  50000.000000             50000.000000   \n",
              "mean                       0.098400                 7.485240   \n",
              "std                        0.297858                 4.039637   \n",
              "min                        0.000000                 1.000000   \n",
              "25%                        0.000000                 4.000000   \n",
              "50%                        0.000000                 7.000000   \n",
              "75%                        0.000000                11.000000   \n",
              "max                        1.000000                14.000000   \n",
              "\n",
              "       Avg_Transaction_Amount_7d  Failed_Transaction_Count_7d      Card_Age  \\\n",
              "count               50000.000000                 50000.000000  50000.000000   \n",
              "mean                  255.271924                     2.003540    119.999940   \n",
              "std                   141.382279                     1.414273     68.985817   \n",
              "min                    10.000000                     0.000000      1.000000   \n",
              "25%                   132.087500                     1.000000     60.000000   \n",
              "50%                   256.085000                     2.000000    120.000000   \n",
              "75%                   378.032500                     3.000000    180.000000   \n",
              "max                   500.000000                     4.000000    239.000000   \n",
              "\n",
              "       Transaction_Distance    Risk_Score    Is_Weekend   Fraud_Label  \n",
              "count          50000.000000  50000.000000  50000.000000  50000.000000  \n",
              "mean            2499.164155      0.501556      0.299640      0.321340  \n",
              "std             1442.013834      0.287774      0.458105      0.466996  \n",
              "min                0.250000      0.000100      0.000000      0.000000  \n",
              "25%             1256.497500      0.254000      0.000000      0.000000  \n",
              "50%             2490.785000      0.502250      0.000000      0.000000  \n",
              "75%             3746.395000      0.749525      1.000000      1.000000  \n",
              "max             4999.930000      1.000000      1.000000      1.000000  "
            ],
            "text/html": [
              "\n",
              "  <div id=\"df-fd8a04bc-e48a-4362-8154-d04577f2be3e\" class=\"colab-df-container\">\n",
              "    <div>\n",
              "<style scoped>\n",
              "    .dataframe tbody tr th:only-of-type {\n",
              "        vertical-align: middle;\n",
              "    }\n",
              "\n",
              "    .dataframe tbody tr th {\n",
              "        vertical-align: top;\n",
              "    }\n",
              "\n",
              "    .dataframe thead th {\n",
              "        text-align: right;\n",
              "    }\n",
              "</style>\n",
              "<table border=\"1\" class=\"dataframe\">\n",
              "  <thead>\n",
              "    <tr style=\"text-align: right;\">\n",
              "      <th></th>\n",
              "      <th>Transaction_Amount</th>\n",
              "      <th>Account_Balance</th>\n",
              "      <th>IP_Address_Flag</th>\n",
              "      <th>Previous_Fraudulent_Activity</th>\n",
              "      <th>Daily_Transaction_Count</th>\n",
              "      <th>Avg_Transaction_Amount_7d</th>\n",
              "      <th>Failed_Transaction_Count_7d</th>\n",
              "      <th>Card_Age</th>\n",
              "      <th>Transaction_Distance</th>\n",
              "      <th>Risk_Score</th>\n",
              "      <th>Is_Weekend</th>\n",
              "      <th>Fraud_Label</th>\n",
              "    </tr>\n",
              "  </thead>\n",
              "  <tbody>\n",
              "    <tr>\n",
              "      <th>count</th>\n",
              "      <td>50000.000000</td>\n",
              "      <td>50000.000000</td>\n",
              "      <td>50000.00000</td>\n",
              "      <td>50000.000000</td>\n",
              "      <td>50000.000000</td>\n",
              "      <td>50000.000000</td>\n",
              "      <td>50000.000000</td>\n",
              "      <td>50000.000000</td>\n",
              "      <td>50000.000000</td>\n",
              "      <td>50000.000000</td>\n",
              "      <td>50000.000000</td>\n",
              "      <td>50000.000000</td>\n",
              "    </tr>\n",
              "    <tr>\n",
              "      <th>mean</th>\n",
              "      <td>99.411012</td>\n",
              "      <td>50294.065981</td>\n",
              "      <td>0.05020</td>\n",
              "      <td>0.098400</td>\n",
              "      <td>7.485240</td>\n",
              "      <td>255.271924</td>\n",
              "      <td>2.003540</td>\n",
              "      <td>119.999940</td>\n",
              "      <td>2499.164155</td>\n",
              "      <td>0.501556</td>\n",
              "      <td>0.299640</td>\n",
              "      <td>0.321340</td>\n",
              "    </tr>\n",
              "    <tr>\n",
              "      <th>std</th>\n",
              "      <td>98.687292</td>\n",
              "      <td>28760.458557</td>\n",
              "      <td>0.21836</td>\n",
              "      <td>0.297858</td>\n",
              "      <td>4.039637</td>\n",
              "      <td>141.382279</td>\n",
              "      <td>1.414273</td>\n",
              "      <td>68.985817</td>\n",
              "      <td>1442.013834</td>\n",
              "      <td>0.287774</td>\n",
              "      <td>0.458105</td>\n",
              "      <td>0.466996</td>\n",
              "    </tr>\n",
              "    <tr>\n",
              "      <th>min</th>\n",
              "      <td>0.000000</td>\n",
              "      <td>500.480000</td>\n",
              "      <td>0.00000</td>\n",
              "      <td>0.000000</td>\n",
              "      <td>1.000000</td>\n",
              "      <td>10.000000</td>\n",
              "      <td>0.000000</td>\n",
              "      <td>1.000000</td>\n",
              "      <td>0.250000</td>\n",
              "      <td>0.000100</td>\n",
              "      <td>0.000000</td>\n",
              "      <td>0.000000</td>\n",
              "    </tr>\n",
              "    <tr>\n",
              "      <th>25%</th>\n",
              "      <td>28.677500</td>\n",
              "      <td>25355.995000</td>\n",
              "      <td>0.00000</td>\n",
              "      <td>0.000000</td>\n",
              "      <td>4.000000</td>\n",
              "      <td>132.087500</td>\n",
              "      <td>1.000000</td>\n",
              "      <td>60.000000</td>\n",
              "      <td>1256.497500</td>\n",
              "      <td>0.254000</td>\n",
              "      <td>0.000000</td>\n",
              "      <td>0.000000</td>\n",
              "    </tr>\n",
              "    <tr>\n",
              "      <th>50%</th>\n",
              "      <td>69.660000</td>\n",
              "      <td>50384.430000</td>\n",
              "      <td>0.00000</td>\n",
              "      <td>0.000000</td>\n",
              "      <td>7.000000</td>\n",
              "      <td>256.085000</td>\n",
              "      <td>2.000000</td>\n",
              "      <td>120.000000</td>\n",
              "      <td>2490.785000</td>\n",
              "      <td>0.502250</td>\n",
              "      <td>0.000000</td>\n",
              "      <td>0.000000</td>\n",
              "    </tr>\n",
              "    <tr>\n",
              "      <th>75%</th>\n",
              "      <td>138.852500</td>\n",
              "      <td>75115.135000</td>\n",
              "      <td>0.00000</td>\n",
              "      <td>0.000000</td>\n",
              "      <td>11.000000</td>\n",
              "      <td>378.032500</td>\n",
              "      <td>3.000000</td>\n",
              "      <td>180.000000</td>\n",
              "      <td>3746.395000</td>\n",
              "      <td>0.749525</td>\n",
              "      <td>1.000000</td>\n",
              "      <td>1.000000</td>\n",
              "    </tr>\n",
              "    <tr>\n",
              "      <th>max</th>\n",
              "      <td>1174.140000</td>\n",
              "      <td>99998.310000</td>\n",
              "      <td>1.00000</td>\n",
              "      <td>1.000000</td>\n",
              "      <td>14.000000</td>\n",
              "      <td>500.000000</td>\n",
              "      <td>4.000000</td>\n",
              "      <td>239.000000</td>\n",
              "      <td>4999.930000</td>\n",
              "      <td>1.000000</td>\n",
              "      <td>1.000000</td>\n",
              "      <td>1.000000</td>\n",
              "    </tr>\n",
              "  </tbody>\n",
              "</table>\n",
              "</div>\n",
              "    <div class=\"colab-df-buttons\">\n",
              "\n",
              "  <div class=\"colab-df-container\">\n",
              "    <button class=\"colab-df-convert\" onclick=\"convertToInteractive('df-fd8a04bc-e48a-4362-8154-d04577f2be3e')\"\n",
              "            title=\"Convert this dataframe to an interactive table.\"\n",
              "            style=\"display:none;\">\n",
              "\n",
              "  <svg xmlns=\"http://www.w3.org/2000/svg\" height=\"24px\" viewBox=\"0 -960 960 960\">\n",
              "    <path d=\"M120-120v-720h720v720H120Zm60-500h600v-160H180v160Zm220 220h160v-160H400v160Zm0 220h160v-160H400v160ZM180-400h160v-160H180v160Zm440 0h160v-160H620v160ZM180-180h160v-160H180v160Zm440 0h160v-160H620v160Z\"/>\n",
              "  </svg>\n",
              "    </button>\n",
              "\n",
              "  <style>\n",
              "    .colab-df-container {\n",
              "      display:flex;\n",
              "      gap: 12px;\n",
              "    }\n",
              "\n",
              "    .colab-df-convert {\n",
              "      background-color: #E8F0FE;\n",
              "      border: none;\n",
              "      border-radius: 50%;\n",
              "      cursor: pointer;\n",
              "      display: none;\n",
              "      fill: #1967D2;\n",
              "      height: 32px;\n",
              "      padding: 0 0 0 0;\n",
              "      width: 32px;\n",
              "    }\n",
              "\n",
              "    .colab-df-convert:hover {\n",
              "      background-color: #E2EBFA;\n",
              "      box-shadow: 0px 1px 2px rgba(60, 64, 67, 0.3), 0px 1px 3px 1px rgba(60, 64, 67, 0.15);\n",
              "      fill: #174EA6;\n",
              "    }\n",
              "\n",
              "    .colab-df-buttons div {\n",
              "      margin-bottom: 4px;\n",
              "    }\n",
              "\n",
              "    [theme=dark] .colab-df-convert {\n",
              "      background-color: #3B4455;\n",
              "      fill: #D2E3FC;\n",
              "    }\n",
              "\n",
              "    [theme=dark] .colab-df-convert:hover {\n",
              "      background-color: #434B5C;\n",
              "      box-shadow: 0px 1px 3px 1px rgba(0, 0, 0, 0.15);\n",
              "      filter: drop-shadow(0px 1px 2px rgba(0, 0, 0, 0.3));\n",
              "      fill: #FFFFFF;\n",
              "    }\n",
              "  </style>\n",
              "\n",
              "    <script>\n",
              "      const buttonEl =\n",
              "        document.querySelector('#df-fd8a04bc-e48a-4362-8154-d04577f2be3e button.colab-df-convert');\n",
              "      buttonEl.style.display =\n",
              "        google.colab.kernel.accessAllowed ? 'block' : 'none';\n",
              "\n",
              "      async function convertToInteractive(key) {\n",
              "        const element = document.querySelector('#df-fd8a04bc-e48a-4362-8154-d04577f2be3e');\n",
              "        const dataTable =\n",
              "          await google.colab.kernel.invokeFunction('convertToInteractive',\n",
              "                                                    [key], {});\n",
              "        if (!dataTable) return;\n",
              "\n",
              "        const docLinkHtml = 'Like what you see? Visit the ' +\n",
              "          '<a target=\"_blank\" href=https://colab.research.google.com/notebooks/data_table.ipynb>data table notebook</a>'\n",
              "          + ' to learn more about interactive tables.';\n",
              "        element.innerHTML = '';\n",
              "        dataTable['output_type'] = 'display_data';\n",
              "        await google.colab.output.renderOutput(dataTable, element);\n",
              "        const docLink = document.createElement('div');\n",
              "        docLink.innerHTML = docLinkHtml;\n",
              "        element.appendChild(docLink);\n",
              "      }\n",
              "    </script>\n",
              "  </div>\n",
              "\n",
              "\n",
              "    <div id=\"df-a34fee28-8b9d-481f-97a0-d70f1f6d67a3\">\n",
              "      <button class=\"colab-df-quickchart\" onclick=\"quickchart('df-a34fee28-8b9d-481f-97a0-d70f1f6d67a3')\"\n",
              "                title=\"Suggest charts\"\n",
              "                style=\"display:none;\">\n",
              "\n",
              "<svg xmlns=\"http://www.w3.org/2000/svg\" height=\"24px\"viewBox=\"0 0 24 24\"\n",
              "     width=\"24px\">\n",
              "    <g>\n",
              "        <path d=\"M19 3H5c-1.1 0-2 .9-2 2v14c0 1.1.9 2 2 2h14c1.1 0 2-.9 2-2V5c0-1.1-.9-2-2-2zM9 17H7v-7h2v7zm4 0h-2V7h2v10zm4 0h-2v-4h2v4z\"/>\n",
              "    </g>\n",
              "</svg>\n",
              "      </button>\n",
              "\n",
              "<style>\n",
              "  .colab-df-quickchart {\n",
              "      --bg-color: #E8F0FE;\n",
              "      --fill-color: #1967D2;\n",
              "      --hover-bg-color: #E2EBFA;\n",
              "      --hover-fill-color: #174EA6;\n",
              "      --disabled-fill-color: #AAA;\n",
              "      --disabled-bg-color: #DDD;\n",
              "  }\n",
              "\n",
              "  [theme=dark] .colab-df-quickchart {\n",
              "      --bg-color: #3B4455;\n",
              "      --fill-color: #D2E3FC;\n",
              "      --hover-bg-color: #434B5C;\n",
              "      --hover-fill-color: #FFFFFF;\n",
              "      --disabled-bg-color: #3B4455;\n",
              "      --disabled-fill-color: #666;\n",
              "  }\n",
              "\n",
              "  .colab-df-quickchart {\n",
              "    background-color: var(--bg-color);\n",
              "    border: none;\n",
              "    border-radius: 50%;\n",
              "    cursor: pointer;\n",
              "    display: none;\n",
              "    fill: var(--fill-color);\n",
              "    height: 32px;\n",
              "    padding: 0;\n",
              "    width: 32px;\n",
              "  }\n",
              "\n",
              "  .colab-df-quickchart:hover {\n",
              "    background-color: var(--hover-bg-color);\n",
              "    box-shadow: 0 1px 2px rgba(60, 64, 67, 0.3), 0 1px 3px 1px rgba(60, 64, 67, 0.15);\n",
              "    fill: var(--button-hover-fill-color);\n",
              "  }\n",
              "\n",
              "  .colab-df-quickchart-complete:disabled,\n",
              "  .colab-df-quickchart-complete:disabled:hover {\n",
              "    background-color: var(--disabled-bg-color);\n",
              "    fill: var(--disabled-fill-color);\n",
              "    box-shadow: none;\n",
              "  }\n",
              "\n",
              "  .colab-df-spinner {\n",
              "    border: 2px solid var(--fill-color);\n",
              "    border-color: transparent;\n",
              "    border-bottom-color: var(--fill-color);\n",
              "    animation:\n",
              "      spin 1s steps(1) infinite;\n",
              "  }\n",
              "\n",
              "  @keyframes spin {\n",
              "    0% {\n",
              "      border-color: transparent;\n",
              "      border-bottom-color: var(--fill-color);\n",
              "      border-left-color: var(--fill-color);\n",
              "    }\n",
              "    20% {\n",
              "      border-color: transparent;\n",
              "      border-left-color: var(--fill-color);\n",
              "      border-top-color: var(--fill-color);\n",
              "    }\n",
              "    30% {\n",
              "      border-color: transparent;\n",
              "      border-left-color: var(--fill-color);\n",
              "      border-top-color: var(--fill-color);\n",
              "      border-right-color: var(--fill-color);\n",
              "    }\n",
              "    40% {\n",
              "      border-color: transparent;\n",
              "      border-right-color: var(--fill-color);\n",
              "      border-top-color: var(--fill-color);\n",
              "    }\n",
              "    60% {\n",
              "      border-color: transparent;\n",
              "      border-right-color: var(--fill-color);\n",
              "    }\n",
              "    80% {\n",
              "      border-color: transparent;\n",
              "      border-right-color: var(--fill-color);\n",
              "      border-bottom-color: var(--fill-color);\n",
              "    }\n",
              "    90% {\n",
              "      border-color: transparent;\n",
              "      border-bottom-color: var(--fill-color);\n",
              "    }\n",
              "  }\n",
              "</style>\n",
              "\n",
              "      <script>\n",
              "        async function quickchart(key) {\n",
              "          const quickchartButtonEl =\n",
              "            document.querySelector('#' + key + ' button');\n",
              "          quickchartButtonEl.disabled = true;  // To prevent multiple clicks.\n",
              "          quickchartButtonEl.classList.add('colab-df-spinner');\n",
              "          try {\n",
              "            const charts = await google.colab.kernel.invokeFunction(\n",
              "                'suggestCharts', [key], {});\n",
              "          } catch (error) {\n",
              "            console.error('Error during call to suggestCharts:', error);\n",
              "          }\n",
              "          quickchartButtonEl.classList.remove('colab-df-spinner');\n",
              "          quickchartButtonEl.classList.add('colab-df-quickchart-complete');\n",
              "        }\n",
              "        (() => {\n",
              "          let quickchartButtonEl =\n",
              "            document.querySelector('#df-a34fee28-8b9d-481f-97a0-d70f1f6d67a3 button');\n",
              "          quickchartButtonEl.style.display =\n",
              "            google.colab.kernel.accessAllowed ? 'block' : 'none';\n",
              "        })();\n",
              "      </script>\n",
              "    </div>\n",
              "\n",
              "    </div>\n",
              "  </div>\n"
            ],
            "application/vnd.google.colaboratory.intrinsic+json": {
              "type": "dataframe",
              "summary": "{\n  \"name\": \"fraud_df\",\n  \"rows\": 8,\n  \"fields\": [\n    {\n      \"column\": \"Transaction_Amount\",\n      \"properties\": {\n        \"dtype\": \"number\",\n        \"std\": 17600.655609399197,\n        \"min\": 0.0,\n        \"max\": 50000.0,\n        \"num_unique_values\": 8,\n        \"samples\": [\n          99.4110122,\n          69.66,\n          50000.0\n        ],\n        \"semantic_type\": \"\",\n        \"description\": \"\"\n      }\n    },\n    {\n      \"column\": \"Account_Balance\",\n      \"properties\": {\n        \"dtype\": \"number\",\n        \"std\": 30686.214515201424,\n        \"min\": 500.48,\n        \"max\": 99998.31,\n        \"num_unique_values\": 8,\n        \"samples\": [\n          50294.065980800005,\n          50384.43,\n          50000.0\n        ],\n        \"semantic_type\": \"\",\n        \"description\": \"\"\n      }\n    },\n    {\n      \"column\": \"IP_Address_Flag\",\n      \"properties\": {\n        \"dtype\": \"number\",\n        \"std\": 17677.605461043007,\n        \"min\": 0.0,\n        \"max\": 50000.0,\n        \"num_unique_values\": 5,\n        \"samples\": [\n          0.0502,\n          1.0,\n          0.2183595970373157\n        ],\n        \"semantic_type\": \"\",\n        \"description\": \"\"\n      }\n    },\n    {\n      \"column\": \"Previous_Fraudulent_Activity\",\n      \"properties\": {\n        \"dtype\": \"number\",\n        \"std\": 17677.59901131274,\n        \"min\": 0.0,\n        \"max\": 50000.0,\n        \"num_unique_values\": 5,\n        \"samples\": [\n          0.0984,\n          1.0,\n          0.2978577082841399\n        ],\n        \"semantic_type\": \"\",\n        \"description\": \"\"\n      }\n    },\n    {\n      \"column\": \"Daily_Transaction_Count\",\n      \"properties\": {\n        \"dtype\": \"number\",\n        \"std\": 17675.21913402175,\n        \"min\": 1.0,\n        \"max\": 50000.0,\n        \"num_unique_values\": 8,\n        \"samples\": [\n          7.48524,\n          7.0,\n          50000.0\n        ],\n        \"semantic_type\": \"\",\n        \"description\": \"\"\n      }\n    },\n    {\n      \"column\": \"Avg_Transaction_Amount_7d\",\n      \"properties\": {\n        \"dtype\": \"number\",\n        \"std\": 17593.832688204242,\n        \"min\": 10.0,\n        \"max\": 50000.0,\n        \"num_unique_values\": 8,\n        \"samples\": [\n          255.2719244,\n          256.085,\n          50000.0\n        ],\n        \"semantic_type\": \"\",\n        \"description\": \"\"\n      }\n    },\n    {\n      \"column\": \"Failed_Transaction_Count_7d\",\n      \"properties\": {\n        \"dtype\": \"number\",\n        \"std\": 17676.99186937636,\n        \"min\": 0.0,\n        \"max\": 50000.0,\n        \"num_unique_values\": 8,\n        \"samples\": [\n          2.00354,\n          2.0,\n          50000.0\n        ],\n        \"semantic_type\": \"\",\n        \"description\": \"\"\n      }\n    },\n    {\n      \"column\": \"Card_Age\",\n      \"properties\": {\n        \"dtype\": \"number\",\n        \"std\": 17637.972618940912,\n        \"min\": 1.0,\n        \"max\": 50000.0,\n        \"num_unique_values\": 8,\n        \"samples\": [\n          119.99994,\n          120.0,\n          50000.0\n        ],\n        \"semantic_type\": \"\",\n        \"description\": \"\"\n      }\n    },\n    {\n      \"column\": \"Transaction_Distance\",\n      \"properties\": {\n        \"dtype\": \"number\",\n        \"std\": 16917.619953623336,\n        \"min\": 0.25,\n        \"max\": 50000.0,\n        \"num_unique_values\": 8,\n        \"samples\": [\n          2499.1641554,\n          2490.785,\n          50000.0\n        ],\n        \"semantic_type\": \"\",\n        \"description\": \"\"\n      }\n    },\n    {\n      \"column\": \"Risk_Score\",\n      \"properties\": {\n        \"dtype\": \"number\",\n        \"std\": 17677.503099370082,\n        \"min\": 0.0001,\n        \"max\": 50000.0,\n        \"num_unique_values\": 8,\n        \"samples\": [\n          0.501555518,\n          0.50225,\n          50000.0\n        ],\n        \"semantic_type\": \"\",\n        \"description\": \"\"\n      }\n    },\n    {\n      \"column\": \"Is_Weekend\",\n      \"properties\": {\n        \"dtype\": \"number\",\n        \"std\": 17677.530247416125,\n        \"min\": 0.0,\n        \"max\": 50000.0,\n        \"num_unique_values\": 5,\n        \"samples\": [\n          0.29964,\n          1.0,\n          0.4581048652887806\n        ],\n        \"semantic_type\": \"\",\n        \"description\": \"\"\n      }\n    },\n    {\n      \"column\": \"Fraud_Label\",\n      \"properties\": {\n        \"dtype\": \"number\",\n        \"std\": 17677.528702336356,\n        \"min\": 0.0,\n        \"max\": 50000.0,\n        \"num_unique_values\": 5,\n        \"samples\": [\n          0.32134,\n          1.0,\n          0.4669956810285413\n        ],\n        \"semantic_type\": \"\",\n        \"description\": \"\"\n      }\n    }\n  ]\n}"
            }
          },
          "metadata": {},
          "execution_count": 5
        }
      ]
    },
    {
      "cell_type": "markdown",
      "source": [
        "Rename columns"
      ],
      "metadata": {
        "id": "_FN03cRmFNbG"
      }
    },
    {
      "cell_type": "code",
      "source": [
        "new_column_names = {\n",
        "    'Transaction_ID' : 'Transaction ID',\n",
        "    'User_ID': 'User ID',\n",
        "    'Transaction_Amount': 'Transaction Amount',\n",
        "    'Transaction_Type': 'Transaction Type',\n",
        "    'Timestamp': 'Timestamp',\n",
        "    'Account_Balance': 'Account Balance',\n",
        "    'Device_Type': 'Device Type',\n",
        "    'Location': 'Location',\n",
        "    'Merchant_Category': 'Merchant Category',\n",
        "    'IP_Address_Flag': 'IP Address Flag',\n",
        "    'Previous_Fraudulent_Activity': 'Previous Fraudulent Activity',\n",
        "    'Daily_Transaction_Count': 'Daily Transaction Count',\n",
        "    'Avg_Transaction_Amount_7d': 'Avg Transaction Amount 7d',\n",
        "    'Failed_Transaction_Count_7d': 'Failed Transaction Count 7d',\n",
        "    'Card_Type': 'Card Type',\n",
        "    'Card_Age': 'Card Age',\n",
        "    'Transaction_Distance': 'Transaction Distance',\n",
        "    'Authentication_Method': 'Authentication Method',\n",
        "    'Risk_Score': 'Risk Score',\n",
        "    'Is_Weekend': 'Is Weekend',\n",
        "    'Fraud_Label': 'Fraud Label'\n",
        "}\n",
        "fraud_df.rename(columns=new_column_names, inplace=True)\n",
        "print(fraud_df.columns)"
      ],
      "metadata": {
        "id": "Uz2oMQ3eBVvL",
        "colab": {
          "base_uri": "https://localhost:8080/"
        },
        "outputId": "d4cb7577-24bd-4277-a183-af3aa2024d21"
      },
      "execution_count": 6,
      "outputs": [
        {
          "output_type": "stream",
          "name": "stdout",
          "text": [
            "Index(['Transaction ID', 'User ID', 'Transaction Amount', 'Transaction Type',\n",
            "       'Timestamp', 'Account Balance', 'Device Type', 'Location',\n",
            "       'Merchant Category', 'IP Address Flag', 'Previous Fraudulent Activity',\n",
            "       'Daily Transaction Count', 'Avg Transaction Amount 7d',\n",
            "       'Failed Transaction Count 7d', 'Card Type', 'Card Age',\n",
            "       'Transaction Distance', 'Authentication Method', 'Risk Score',\n",
            "       'Is Weekend', 'Fraud Label'],\n",
            "      dtype='object')\n"
          ]
        }
      ]
    },
    {
      "cell_type": "markdown",
      "source": [
        "# Exploratory Data Analysis"
      ],
      "metadata": {
        "id": "u1JaVWRpE1PE"
      }
    },
    {
      "cell_type": "code",
      "source": [
        "fraud_df['Timestamp'].value_counts()"
      ],
      "metadata": {
        "colab": {
          "base_uri": "https://localhost:8080/",
          "height": 490
        },
        "id": "jZJLXqXAuU1m",
        "outputId": "9a022b2d-6d3b-44bb-8677-f680e583c0e3"
      },
      "execution_count": 7,
      "outputs": [
        {
          "output_type": "execute_result",
          "data": {
            "text/plain": [
              "Timestamp\n",
              "2023-06-04 06:35:00    4\n",
              "2023-05-30 08:46:00    3\n",
              "2023-04-28 05:47:00    3\n",
              "2023-03-19 10:11:00    3\n",
              "2023-01-07 01:41:00    3\n",
              "                      ..\n",
              "2023-12-01 08:52:00    1\n",
              "2023-08-10 01:56:00    1\n",
              "2023-10-22 04:35:00    1\n",
              "2023-10-23 07:08:00    1\n",
              "2023-06-05 13:24:00    1\n",
              "Name: count, Length: 47724, dtype: int64"
            ],
            "text/html": [
              "<div>\n",
              "<style scoped>\n",
              "    .dataframe tbody tr th:only-of-type {\n",
              "        vertical-align: middle;\n",
              "    }\n",
              "\n",
              "    .dataframe tbody tr th {\n",
              "        vertical-align: top;\n",
              "    }\n",
              "\n",
              "    .dataframe thead th {\n",
              "        text-align: right;\n",
              "    }\n",
              "</style>\n",
              "<table border=\"1\" class=\"dataframe\">\n",
              "  <thead>\n",
              "    <tr style=\"text-align: right;\">\n",
              "      <th></th>\n",
              "      <th>count</th>\n",
              "    </tr>\n",
              "    <tr>\n",
              "      <th>Timestamp</th>\n",
              "      <th></th>\n",
              "    </tr>\n",
              "  </thead>\n",
              "  <tbody>\n",
              "    <tr>\n",
              "      <th>2023-06-04 06:35:00</th>\n",
              "      <td>4</td>\n",
              "    </tr>\n",
              "    <tr>\n",
              "      <th>2023-05-30 08:46:00</th>\n",
              "      <td>3</td>\n",
              "    </tr>\n",
              "    <tr>\n",
              "      <th>2023-04-28 05:47:00</th>\n",
              "      <td>3</td>\n",
              "    </tr>\n",
              "    <tr>\n",
              "      <th>2023-03-19 10:11:00</th>\n",
              "      <td>3</td>\n",
              "    </tr>\n",
              "    <tr>\n",
              "      <th>2023-01-07 01:41:00</th>\n",
              "      <td>3</td>\n",
              "    </tr>\n",
              "    <tr>\n",
              "      <th>...</th>\n",
              "      <td>...</td>\n",
              "    </tr>\n",
              "    <tr>\n",
              "      <th>2023-12-01 08:52:00</th>\n",
              "      <td>1</td>\n",
              "    </tr>\n",
              "    <tr>\n",
              "      <th>2023-08-10 01:56:00</th>\n",
              "      <td>1</td>\n",
              "    </tr>\n",
              "    <tr>\n",
              "      <th>2023-10-22 04:35:00</th>\n",
              "      <td>1</td>\n",
              "    </tr>\n",
              "    <tr>\n",
              "      <th>2023-10-23 07:08:00</th>\n",
              "      <td>1</td>\n",
              "    </tr>\n",
              "    <tr>\n",
              "      <th>2023-06-05 13:24:00</th>\n",
              "      <td>1</td>\n",
              "    </tr>\n",
              "  </tbody>\n",
              "</table>\n",
              "<p>47724 rows × 1 columns</p>\n",
              "</div><br><label><b>dtype:</b> int64</label>"
            ]
          },
          "metadata": {},
          "execution_count": 7
        }
      ]
    },
    {
      "cell_type": "markdown",
      "source": [
        "How much fraud is there? (Unbalanced dataset)"
      ],
      "metadata": {
        "id": "UjQTPdqmVmL_"
      }
    },
    {
      "cell_type": "code",
      "source": [
        "fraudulent_counts = len(fraud_df[fraud_df['Fraud Label'] == 1].value_counts())\n",
        "no_fraud_counts = len(fraud_df[fraud_df['Fraud Label'] == 0].value_counts())\n",
        "plt.bar([0,1], [no_fraud_counts, fraudulent_counts])\n",
        "plt.xticks([0,1], ['No', 'Yes'])\n",
        "plt.xlabel('Is Fraud')\n",
        "plt.ylabel('Count')\n",
        "plt.show()"
      ],
      "metadata": {
        "colab": {
          "base_uri": "https://localhost:8080/",
          "height": 449
        },
        "id": "82o8mvmBVoV3",
        "outputId": "d620fffa-1c4d-4215-fa35-894a798e5858"
      },
      "execution_count": 80,
      "outputs": [
        {
          "output_type": "display_data",
          "data": {
            "text/plain": [
              "<Figure size 640x480 with 1 Axes>"
            ],
            "image/png": "[encoded data removed]"
          },
          "metadata": {}
        }
      ]
    },
    {
      "cell_type": "markdown",
      "source": [
        "Risk score vs Card Age (not helpful)"
      ],
      "metadata": {
        "id": "jSCClUpAIDF3"
      }
    },
    {
      "cell_type": "code",
      "source": [
        "plt.scatter(fraud_df['Card Age'], fraud_df['Risk Score'])\n",
        "plt.xlabel('Card Age (months)')\n",
        "plt.ylabel('Risk Score')\n",
        "plt.title('Risk Score vs Card Age')\n",
        "plt.show()"
      ],
      "metadata": {
        "id": "FvEm2b0xEgwA",
        "colab": {
          "base_uri": "https://localhost:8080/",
          "height": 472
        },
        "outputId": "b7b0714b-60e5-4772-eded-75136acdb55e"
      },
      "execution_count": 8,
      "outputs": [
        {
          "output_type": "display_data",
          "data": {
            "text/plain": [
              "<Figure size 640x480 with 1 Axes>"
            ],
            "image/png": "[encoded data removed]"
          },
          "metadata": {}
        }
      ]
    },
    {
      "cell_type": "markdown",
      "source": [
        "Device type vs fraud count (not helpful)"
      ],
      "metadata": {
        "id": "OfdOWvBIFkAh"
      }
    },
    {
      "cell_type": "code",
      "source": [
        "fraudulent_device_counts = fraud_df[fraud_df['Fraud Label'] == 1]['Device Type'].value_counts()\n",
        "plt.bar(fraudulent_device_counts.index, fraudulent_device_counts.values)\n",
        "plt.xlabel('Device Type')\n",
        "plt.ylabel('Count')\n",
        "plt.title('Count of Frauds by Device Type')\n",
        "plt.tight_layout()\n",
        "plt.show()"
      ],
      "metadata": {
        "id": "NzI7OW29Fn-c",
        "colab": {
          "base_uri": "https://localhost:8080/",
          "height": 487
        },
        "outputId": "a66bf7a8-9bc6-4f67-9b6f-f9077c679878"
      },
      "execution_count": 78,
      "outputs": [
        {
          "output_type": "display_data",
          "data": {
            "text/plain": [
              "<Figure size 640x480 with 1 Axes>"
            ],
            "image/png": "[encoded data removed]"
          },
          "metadata": {}
        }
      ]
    },
    {
      "cell_type": "markdown",
      "source": [
        "Risk Score vs Account Balance. Not helpful."
      ],
      "metadata": {
        "id": "dbO3cztmIL_0"
      }
    },
    {
      "cell_type": "code",
      "source": [
        "plt.scatter(fraud_df['Account Balance'], fraud_df['Risk Score'])"
      ],
      "metadata": {
        "id": "2bLyVRybIdmM",
        "colab": {
          "base_uri": "https://localhost:8080/",
          "height": 447
        },
        "outputId": "40fda12a-89bb-4f08-c8a8-b81c1e4ce258"
      },
      "execution_count": 10,
      "outputs": [
        {
          "output_type": "execute_result",
          "data": {
            "text/plain": [
              "<matplotlib.collections.PathCollection at 0x78eae5afa910>"
            ]
          },
          "metadata": {},
          "execution_count": 10
        },
        {
          "output_type": "display_data",
          "data": {
            "text/plain": [
              "<Figure size 640x480 with 1 Axes>"
            ],
            "image/png": "[encoded data removed]"
          },
          "metadata": {}
        }
      ]
    },
    {
      "cell_type": "markdown",
      "source": [
        "Is weekend and fraud label == 1"
      ],
      "metadata": {
        "id": "fr_YhPYnIsjh"
      }
    },
    {
      "cell_type": "code",
      "metadata": {
        "id": "7a4f218f",
        "colab": {
          "base_uri": "https://localhost:8080/",
          "height": 472
        },
        "outputId": "1c7115c5-8046-49d2-ecf9-ea0f0053d6c3"
      },
      "source": [
        "fraudulent_weekend_counts = fraud_df[fraud_df['Fraud Label'] == 1]['Is Weekend'].value_counts()\n",
        "\n",
        "plt.bar(fraudulent_weekend_counts.index, fraudulent_weekend_counts.values)\n",
        "plt.xlabel('Is Weekend')\n",
        "plt.ylabel('Count of Fraudulent Transactions')\n",
        "plt.title('Count of Fraudulent Transactions by Weekend')\n",
        "plt.xticks([0, 1], ['No', 'Yes'])\n",
        "plt.show()"
      ],
      "execution_count": 79,
      "outputs": [
        {
          "output_type": "display_data",
          "data": {
            "text/plain": [
              "<Figure size 640x480 with 1 Axes>"
            ],
            "image/png": "[encoded data removed]"
          },
          "metadata": {}
        }
      ]
    },
    {
      "cell_type": "markdown",
      "source": [
        "## The two next graphs are the ones I would like to showcase on my EDA"
      ],
      "metadata": {
        "id": "IDZzUo6uJrxq"
      }
    },
    {
      "cell_type": "code",
      "source": [
        "fraudulent_counts = fraud_df.groupby('Failed Transaction Count 7d')['Fraud Label'].value_counts().unstack(fill_value=0)\n",
        "\n",
        "fraudulent_counts.plot(kind='bar', figsize=(10, 6), color=['blue', 'red'])\n",
        "\n",
        "plt.xlabel('Failed Transaction Count 7d')\n",
        "plt.ylabel('Count')\n",
        "plt.title('Distribution of Failed Transaction Count 7d by Fraud Label')\n",
        "plt.xticks(rotation=0)\n",
        "plt.legend(title='Fraud Label', labels=['No Fraud', 'Fraud'])\n",
        "plt.tight_layout()\n",
        "plt.show()"
      ],
      "metadata": {
        "colab": {
          "base_uri": "https://localhost:8080/",
          "height": 607
        },
        "id": "EYsYliJBBbU1",
        "outputId": "8e17eab9-592e-438e-f36d-a5a61cd13613"
      },
      "execution_count": 12,
      "outputs": [
        {
          "output_type": "display_data",
          "data": {
            "text/plain": [
              "<Figure size 1000x600 with 1 Axes>"
            ],
            "image/png": "[encoded data removed]"
          },
          "metadata": {}
        }
      ]
    },
    {
      "cell_type": "code",
      "source": [
        "fraud_df['Risk Score'].describe()"
      ],
      "metadata": {
        "colab": {
          "base_uri": "https://localhost:8080/",
          "height": 335
        },
        "id": "YjqdmSfRGRCO",
        "outputId": "ed0067bc-9dee-4bed-cdca-25313fa920fa"
      },
      "execution_count": 13,
      "outputs": [
        {
          "output_type": "execute_result",
          "data": {
            "text/plain": [
              "count    50000.000000\n",
              "mean         0.501556\n",
              "std          0.287774\n",
              "min          0.000100\n",
              "25%          0.254000\n",
              "50%          0.502250\n",
              "75%          0.749525\n",
              "max          1.000000\n",
              "Name: Risk Score, dtype: float64"
            ],
            "text/html": [
              "<div>\n",
              "<style scoped>\n",
              "    .dataframe tbody tr th:only-of-type {\n",
              "        vertical-align: middle;\n",
              "    }\n",
              "\n",
              "    .dataframe tbody tr th {\n",
              "        vertical-align: top;\n",
              "    }\n",
              "\n",
              "    .dataframe thead th {\n",
              "        text-align: right;\n",
              "    }\n",
              "</style>\n",
              "<table border=\"1\" class=\"dataframe\">\n",
              "  <thead>\n",
              "    <tr style=\"text-align: right;\">\n",
              "      <th></th>\n",
              "      <th>Risk Score</th>\n",
              "    </tr>\n",
              "  </thead>\n",
              "  <tbody>\n",
              "    <tr>\n",
              "      <th>count</th>\n",
              "      <td>50000.000000</td>\n",
              "    </tr>\n",
              "    <tr>\n",
              "      <th>mean</th>\n",
              "      <td>0.501556</td>\n",
              "    </tr>\n",
              "    <tr>\n",
              "      <th>std</th>\n",
              "      <td>0.287774</td>\n",
              "    </tr>\n",
              "    <tr>\n",
              "      <th>min</th>\n",
              "      <td>0.000100</td>\n",
              "    </tr>\n",
              "    <tr>\n",
              "      <th>25%</th>\n",
              "      <td>0.254000</td>\n",
              "    </tr>\n",
              "    <tr>\n",
              "      <th>50%</th>\n",
              "      <td>0.502250</td>\n",
              "    </tr>\n",
              "    <tr>\n",
              "      <th>75%</th>\n",
              "      <td>0.749525</td>\n",
              "    </tr>\n",
              "    <tr>\n",
              "      <th>max</th>\n",
              "      <td>1.000000</td>\n",
              "    </tr>\n",
              "  </tbody>\n",
              "</table>\n",
              "</div><br><label><b>dtype:</b> float64</label>"
            ]
          },
          "metadata": {},
          "execution_count": 13
        }
      ]
    },
    {
      "cell_type": "code",
      "source": [
        "fraud_df['Risk Category'] = 'unknown'\n",
        "\n",
        "fraud_df['Risk Category'][fraud_df['Risk Score'] <= 0.2] = 1\n",
        "fraud_df['Risk Category'][(fraud_df['Risk Score'] > 0.2) & (fraud_df['Risk Score'] <= 0.4)] = 2\n",
        "fraud_df['Risk Category'][(fraud_df['Risk Score'] > 0.4) & (fraud_df['Risk Score'] <= 0.6)] = 3\n",
        "fraud_df['Risk Category'][(fraud_df['Risk Score'] > 0.6) & (fraud_df['Risk Score'] <= 0.8)] = 4\n",
        "fraud_df['Risk Category'][fraud_df['Risk Score'] > 0.8] = 5"
      ],
      "metadata": {
        "id": "RuuwyQcCEE0Q"
      },
      "execution_count": 14,
      "outputs": []
    },
    {
      "cell_type": "code",
      "source": [
        "print(fraud_df['Risk Category'])\n",
        "grouped_data = fraud_df.groupby(fraud_df['Risk Category'])\n",
        "fraud_frac = grouped_data['Fraud Label'].mean()\n",
        "print(fraud_frac)\n",
        "\n",
        "plt.bar(['0-0.2','0.2-0.4', '0.4-0.6','0.6-0.8','>0.8'], fraud_frac)\n",
        "plt.xlabel('Risk Score')\n",
        "plt.ylabel('Percent Fraud')\n",
        "plt.title('Percent Fraud vs Risk Score')\n",
        "plt.show()"
      ],
      "metadata": {
        "colab": {
          "base_uri": "https://localhost:8080/",
          "height": 802
        },
        "id": "x59JHhHsHQ0C",
        "outputId": "64147dd4-5641-47d7-fd1a-578db5284c52"
      },
      "execution_count": 15,
      "outputs": [
        {
          "output_type": "stream",
          "name": "stdout",
          "text": [
            "0        5\n",
            "1        1\n",
            "2        5\n",
            "3        4\n",
            "4        2\n",
            "        ..\n",
            "49995    1\n",
            "49996    2\n",
            "49997    3\n",
            "49998    4\n",
            "49999    5\n",
            "Name: Risk Category, Length: 50000, dtype: object\n",
            "Risk Category\n",
            "1    0.196548\n",
            "2    0.201953\n",
            "3    0.197782\n",
            "4    0.201287\n",
            "5    0.804866\n",
            "Name: Fraud Label, dtype: float64\n"
          ]
        },
        {
          "output_type": "display_data",
          "data": {
            "text/plain": [
              "<Figure size 640x480 with 1 Axes>"
            ],
            "image/png": "[encoded data removed]"
          },
          "metadata": {}
        }
      ]
    },
    {
      "cell_type": "markdown",
      "source": [
        "Drop Risk Category (no longer needed)"
      ],
      "metadata": {
        "id": "fSlv88UuL9w1"
      }
    },
    {
      "cell_type": "code",
      "source": [
        "fraud_df.drop('Risk Category', axis = 1)"
      ],
      "metadata": {
        "colab": {
          "base_uri": "https://localhost:8080/",
          "height": 632
        },
        "id": "HSs8gSj-L_ul",
        "outputId": "2d791374-aadb-4ecb-aee9-d65634b58862"
      },
      "execution_count": 16,
      "outputs": [
        {
          "output_type": "execute_result",
          "data": {
            "text/plain": [
              "      Transaction ID    User ID  Transaction Amount Transaction Type  \\\n",
              "0          TXN_33553  USER_1834               39.79              POS   \n",
              "1           TXN_9427  USER_7875                1.19    Bank Transfer   \n",
              "2            TXN_199  USER_2734               28.96           Online   \n",
              "3          TXN_12447  USER_2617              254.32   ATM Withdrawal   \n",
              "4          TXN_39489  USER_2014               31.28              POS   \n",
              "...              ...        ...                 ...              ...   \n",
              "49995      TXN_11284  USER_4796               45.05           Online   \n",
              "49996      TXN_44732  USER_1171              126.15              POS   \n",
              "49997      TXN_38158  USER_2510               72.02           Online   \n",
              "49998        TXN_860  USER_2248               64.89    Bank Transfer   \n",
              "49999      TXN_15795  USER_6529               13.00    Bank Transfer   \n",
              "\n",
              "                 Timestamp  Account Balance Device Type  Location  \\\n",
              "0      2023-08-14 19:30:00         93213.17      Laptop    Sydney   \n",
              "1      2023-06-07 04:01:00         75725.25      Mobile  New York   \n",
              "2      2023-06-20 15:25:00          1588.96      Tablet    Mumbai   \n",
              "3      2023-12-07 00:31:00         76807.20      Tablet  New York   \n",
              "4      2023-11-11 23:44:00         92354.66      Mobile    Mumbai   \n",
              "...                    ...              ...         ...       ...   \n",
              "49995  2023-01-29 18:38:00         76960.11      Mobile     Tokyo   \n",
              "49996  2023-05-09 08:55:00         28791.75      Mobile     Tokyo   \n",
              "49997  2023-01-30 19:32:00         29916.41      Laptop    Mumbai   \n",
              "49998  2023-03-09 19:47:00         67895.67      Mobile     Tokyo   \n",
              "49999  2023-08-19 23:57:00          7668.82      Tablet    London   \n",
              "\n",
              "      Merchant Category  IP Address Flag  ...  Daily Transaction Count  \\\n",
              "0                Travel                0  ...                        7   \n",
              "1              Clothing                0  ...                       13   \n",
              "2           Restaurants                0  ...                       14   \n",
              "3              Clothing                0  ...                        8   \n",
              "4           Electronics                0  ...                       14   \n",
              "...                 ...              ...  ...                      ...   \n",
              "49995          Clothing                0  ...                        2   \n",
              "49996          Clothing                0  ...                       13   \n",
              "49997          Clothing                0  ...                        1   \n",
              "49998       Electronics                0  ...                       13   \n",
              "49999       Restaurants                0  ...                        5   \n",
              "\n",
              "       Avg Transaction Amount 7d  Failed Transaction Count 7d   Card Type  \\\n",
              "0                         437.63                            3        Amex   \n",
              "1                         478.76                            4  Mastercard   \n",
              "2                          50.01                            4        Visa   \n",
              "3                         182.48                            4        Visa   \n",
              "4                         328.69                            4  Mastercard   \n",
              "...                          ...                          ...         ...   \n",
              "49995                     389.00                            3        Amex   \n",
              "49996                     434.95                            4        Visa   \n",
              "49997                     369.15                            2        Visa   \n",
              "49998                     242.29                            4    Discover   \n",
              "49999                     273.78                            1  Mastercard   \n",
              "\n",
              "      Card Age  Transaction Distance  Authentication Method Risk Score  \\\n",
              "0           65                883.17              Biometric     0.8494   \n",
              "1          186               2203.36               Password     0.0959   \n",
              "2          226               1909.29              Biometric     0.8400   \n",
              "3           76               1311.86                    OTP     0.7935   \n",
              "4          140                966.98               Password     0.3819   \n",
              "...        ...                   ...                    ...        ...   \n",
              "49995       98               1537.54                    PIN     0.1493   \n",
              "49996       93               2555.72              Biometric     0.3653   \n",
              "49997      114               4686.59              Biometric     0.5195   \n",
              "49998       72               4886.92              Biometric     0.7063   \n",
              "49999      154               1568.95                    OTP     0.8938   \n",
              "\n",
              "       Is Weekend  Fraud Label  \n",
              "0               0            0  \n",
              "1               0            1  \n",
              "2               0            1  \n",
              "3               0            1  \n",
              "4               1            1  \n",
              "...           ...          ...  \n",
              "49995           1            0  \n",
              "49996           0            1  \n",
              "49997           0            0  \n",
              "49998           0            1  \n",
              "49999           0            1  \n",
              "\n",
              "[50000 rows x 21 columns]"
            ],
            "text/html": [
              "\n",
              "  <div id=\"df-d9d35261-a6b8-40e7-a58c-c9b84e3f9ae7\" class=\"colab-df-container\">\n",
              "    <div>\n",
              "<style scoped>\n",
              "    .dataframe tbody tr th:only-of-type {\n",
              "        vertical-align: middle;\n",
              "    }\n",
              "\n",
              "    .dataframe tbody tr th {\n",
              "        vertical-align: top;\n",
              "    }\n",
              "\n",
              "    .dataframe thead th {\n",
              "        text-align: right;\n",
              "    }\n",
              "</style>\n",
              "<table border=\"1\" class=\"dataframe\">\n",
              "  <thead>\n",
              "    <tr style=\"text-align: right;\">\n",
              "      <th></th>\n",
              "      <th>Transaction ID</th>\n",
              "      <th>User ID</th>\n",
              "      <th>Transaction Amount</th>\n",
              "      <th>Transaction Type</th>\n",
              "      <th>Timestamp</th>\n",
              "      <th>Account Balance</th>\n",
              "      <th>Device Type</th>\n",
              "      <th>Location</th>\n",
              "      <th>Merchant Category</th>\n",
              "      <th>IP Address Flag</th>\n",
              "      <th>...</th>\n",
              "      <th>Daily Transaction Count</th>\n",
              "      <th>Avg Transaction Amount 7d</th>\n",
              "      <th>Failed Transaction Count 7d</th>\n",
              "      <th>Card Type</th>\n",
              "      <th>Card Age</th>\n",
              "      <th>Transaction Distance</th>\n",
              "      <th>Authentication Method</th>\n",
              "      <th>Risk Score</th>\n",
              "      <th>Is Weekend</th>\n",
              "      <th>Fraud Label</th>\n",
              "    </tr>\n",
              "  </thead>\n",
              "  <tbody>\n",
              "    <tr>\n",
              "      <th>0</th>\n",
              "      <td>TXN_33553</td>\n",
              "      <td>USER_1834</td>\n",
              "      <td>39.79</td>\n",
              "      <td>POS</td>\n",
              "      <td>2023-08-14 19:30:00</td>\n",
              "      <td>93213.17</td>\n",
              "      <td>Laptop</td>\n",
              "      <td>Sydney</td>\n",
              "      <td>Travel</td>\n",
              "      <td>0</td>\n",
              "      <td>...</td>\n",
              "      <td>7</td>\n",
              "      <td>437.63</td>\n",
              "      <td>3</td>\n",
              "      <td>Amex</td>\n",
              "      <td>65</td>\n",
              "      <td>883.17</td>\n",
              "      <td>Biometric</td>\n",
              "      <td>0.8494</td>\n",
              "      <td>0</td>\n",
              "      <td>0</td>\n",
              "    </tr>\n",
              "    <tr>\n",
              "      <th>1</th>\n",
              "      <td>TXN_9427</td>\n",
              "      <td>USER_7875</td>\n",
              "      <td>1.19</td>\n",
              "      <td>Bank Transfer</td>\n",
              "      <td>2023-06-07 04:01:00</td>\n",
              "      <td>75725.25</td>\n",
              "      <td>Mobile</td>\n",
              "      <td>New York</td>\n",
              "      <td>Clothing</td>\n",
              "      <td>0</td>\n",
              "      <td>...</td>\n",
              "      <td>13</td>\n",
              "      <td>478.76</td>\n",
              "      <td>4</td>\n",
              "      <td>Mastercard</td>\n",
              "      <td>186</td>\n",
              "      <td>2203.36</td>\n",
              "      <td>Password</td>\n",
              "      <td>0.0959</td>\n",
              "      <td>0</td>\n",
              "      <td>1</td>\n",
              "    </tr>\n",
              "    <tr>\n",
              "      <th>2</th>\n",
              "      <td>TXN_199</td>\n",
              "      <td>USER_2734</td>\n",
              "      <td>28.96</td>\n",
              "      <td>Online</td>\n",
              "      <td>2023-06-20 15:25:00</td>\n",
              "      <td>1588.96</td>\n",
              "      <td>Tablet</td>\n",
              "      <td>Mumbai</td>\n",
              "      <td>Restaurants</td>\n",
              "      <td>0</td>\n",
              "      <td>...</td>\n",
              "      <td>14</td>\n",
              "      <td>50.01</td>\n",
              "      <td>4</td>\n",
              "      <td>Visa</td>\n",
              "      <td>226</td>\n",
              "      <td>1909.29</td>\n",
              "      <td>Biometric</td>\n",
              "      <td>0.8400</td>\n",
              "      <td>0</td>\n",
              "      <td>1</td>\n",
              "    </tr>\n",
              "    <tr>\n",
              "      <th>3</th>\n",
              "      <td>TXN_12447</td>\n",
              "      <td>USER_2617</td>\n",
              "      <td>254.32</td>\n",
              "      <td>ATM Withdrawal</td>\n",
              "      <td>2023-12-07 00:31:00</td>\n",
              "      <td>76807.20</td>\n",
              "      <td>Tablet</td>\n",
              "      <td>New York</td>\n",
              "      <td>Clothing</td>\n",
              "      <td>0</td>\n",
              "      <td>...</td>\n",
              "      <td>8</td>\n",
              "      <td>182.48</td>\n",
              "      <td>4</td>\n",
              "      <td>Visa</td>\n",
              "      <td>76</td>\n",
              "      <td>1311.86</td>\n",
              "      <td>OTP</td>\n",
              "      <td>0.7935</td>\n",
              "      <td>0</td>\n",
              "      <td>1</td>\n",
              "    </tr>\n",
              "    <tr>\n",
              "      <th>4</th>\n",
              "      <td>TXN_39489</td>\n",
              "      <td>USER_2014</td>\n",
              "      <td>31.28</td>\n",
              "      <td>POS</td>\n",
              "      <td>2023-11-11 23:44:00</td>\n",
              "      <td>92354.66</td>\n",
              "      <td>Mobile</td>\n",
              "      <td>Mumbai</td>\n",
              "      <td>Electronics</td>\n",
              "      <td>0</td>\n",
              "      <td>...</td>\n",
              "      <td>14</td>\n",
              "      <td>328.69</td>\n",
              "      <td>4</td>\n",
              "      <td>Mastercard</td>\n",
              "      <td>140</td>\n",
              "      <td>966.98</td>\n",
              "      <td>Password</td>\n",
              "      <td>0.3819</td>\n",
              "      <td>1</td>\n",
              "      <td>1</td>\n",
              "    </tr>\n",
              "    <tr>\n",
              "      <th>...</th>\n",
              "      <td>...</td>\n",
              "      <td>...</td>\n",
              "      <td>...</td>\n",
              "      <td>...</td>\n",
              "      <td>...</td>\n",
              "      <td>...</td>\n",
              "      <td>...</td>\n",
              "      <td>...</td>\n",
              "      <td>...</td>\n",
              "      <td>...</td>\n",
              "      <td>...</td>\n",
              "      <td>...</td>\n",
              "      <td>...</td>\n",
              "      <td>...</td>\n",
              "      <td>...</td>\n",
              "      <td>...</td>\n",
              "      <td>...</td>\n",
              "      <td>...</td>\n",
              "      <td>...</td>\n",
              "      <td>...</td>\n",
              "      <td>...</td>\n",
              "    </tr>\n",
              "    <tr>\n",
              "      <th>49995</th>\n",
              "      <td>TXN_11284</td>\n",
              "      <td>USER_4796</td>\n",
              "      <td>45.05</td>\n",
              "      <td>Online</td>\n",
              "      <td>2023-01-29 18:38:00</td>\n",
              "      <td>76960.11</td>\n",
              "      <td>Mobile</td>\n",
              "      <td>Tokyo</td>\n",
              "      <td>Clothing</td>\n",
              "      <td>0</td>\n",
              "      <td>...</td>\n",
              "      <td>2</td>\n",
              "      <td>389.00</td>\n",
              "      <td>3</td>\n",
              "      <td>Amex</td>\n",
              "      <td>98</td>\n",
              "      <td>1537.54</td>\n",
              "      <td>PIN</td>\n",
              "      <td>0.1493</td>\n",
              "      <td>1</td>\n",
              "      <td>0</td>\n",
              "    </tr>\n",
              "    <tr>\n",
              "      <th>49996</th>\n",
              "      <td>TXN_44732</td>\n",
              "      <td>USER_1171</td>\n",
              "      <td>126.15</td>\n",
              "      <td>POS</td>\n",
              "      <td>2023-05-09 08:55:00</td>\n",
              "      <td>28791.75</td>\n",
              "      <td>Mobile</td>\n",
              "      <td>Tokyo</td>\n",
              "      <td>Clothing</td>\n",
              "      <td>0</td>\n",
              "      <td>...</td>\n",
              "      <td>13</td>\n",
              "      <td>434.95</td>\n",
              "      <td>4</td>\n",
              "      <td>Visa</td>\n",
              "      <td>93</td>\n",
              "      <td>2555.72</td>\n",
              "      <td>Biometric</td>\n",
              "      <td>0.3653</td>\n",
              "      <td>0</td>\n",
              "      <td>1</td>\n",
              "    </tr>\n",
              "    <tr>\n",
              "      <th>49997</th>\n",
              "      <td>TXN_38158</td>\n",
              "      <td>USER_2510</td>\n",
              "      <td>72.02</td>\n",
              "      <td>Online</td>\n",
              "      <td>2023-01-30 19:32:00</td>\n",
              "      <td>29916.41</td>\n",
              "      <td>Laptop</td>\n",
              "      <td>Mumbai</td>\n",
              "      <td>Clothing</td>\n",
              "      <td>0</td>\n",
              "      <td>...</td>\n",
              "      <td>1</td>\n",
              "      <td>369.15</td>\n",
              "      <td>2</td>\n",
              "      <td>Visa</td>\n",
              "      <td>114</td>\n",
              "      <td>4686.59</td>\n",
              "      <td>Biometric</td>\n",
              "      <td>0.5195</td>\n",
              "      <td>0</td>\n",
              "      <td>0</td>\n",
              "    </tr>\n",
              "    <tr>\n",
              "      <th>49998</th>\n",
              "      <td>TXN_860</td>\n",
              "      <td>USER_2248</td>\n",
              "      <td>64.89</td>\n",
              "      <td>Bank Transfer</td>\n",
              "      <td>2023-03-09 19:47:00</td>\n",
              "      <td>67895.67</td>\n",
              "      <td>Mobile</td>\n",
              "      <td>Tokyo</td>\n",
              "      <td>Electronics</td>\n",
              "      <td>0</td>\n",
              "      <td>...</td>\n",
              "      <td>13</td>\n",
              "      <td>242.29</td>\n",
              "      <td>4</td>\n",
              "      <td>Discover</td>\n",
              "      <td>72</td>\n",
              "      <td>4886.92</td>\n",
              "      <td>Biometric</td>\n",
              "      <td>0.7063</td>\n",
              "      <td>0</td>\n",
              "      <td>1</td>\n",
              "    </tr>\n",
              "    <tr>\n",
              "      <th>49999</th>\n",
              "      <td>TXN_15795</td>\n",
              "      <td>USER_6529</td>\n",
              "      <td>13.00</td>\n",
              "      <td>Bank Transfer</td>\n",
              "      <td>2023-08-19 23:57:00</td>\n",
              "      <td>7668.82</td>\n",
              "      <td>Tablet</td>\n",
              "      <td>London</td>\n",
              "      <td>Restaurants</td>\n",
              "      <td>0</td>\n",
              "      <td>...</td>\n",
              "      <td>5</td>\n",
              "      <td>273.78</td>\n",
              "      <td>1</td>\n",
              "      <td>Mastercard</td>\n",
              "      <td>154</td>\n",
              "      <td>1568.95</td>\n",
              "      <td>OTP</td>\n",
              "      <td>0.8938</td>\n",
              "      <td>0</td>\n",
              "      <td>1</td>\n",
              "    </tr>\n",
              "  </tbody>\n",
              "</table>\n",
              "<p>50000 rows × 21 columns</p>\n",
              "</div>\n",
              "    <div class=\"colab-df-buttons\">\n",
              "\n",
              "  <div class=\"colab-df-container\">\n",
              "    <button class=\"colab-df-convert\" onclick=\"convertToInteractive('df-d9d35261-a6b8-40e7-a58c-c9b84e3f9ae7')\"\n",
              "            title=\"Convert this dataframe to an interactive table.\"\n",
              "            style=\"display:none;\">\n",
              "\n",
              "  <svg xmlns=\"http://www.w3.org/2000/svg\" height=\"24px\" viewBox=\"0 -960 960 960\">\n",
              "    <path d=\"M120-120v-720h720v720H120Zm60-500h600v-160H180v160Zm220 220h160v-160H400v160Zm0 220h160v-160H400v160ZM180-400h160v-160H180v160Zm440 0h160v-160H620v160ZM180-180h160v-160H180v160Zm440 0h160v-160H620v160Z\"/>\n",
              "  </svg>\n",
              "    </button>\n",
              "\n",
              "  <style>\n",
              "    .colab-df-container {\n",
              "      display:flex;\n",
              "      gap: 12px;\n",
              "    }\n",
              "\n",
              "    .colab-df-convert {\n",
              "      background-color: #E8F0FE;\n",
              "      border: none;\n",
              "      border-radius: 50%;\n",
              "      cursor: pointer;\n",
              "      display: none;\n",
              "      fill: #1967D2;\n",
              "      height: 32px;\n",
              "      padding: 0 0 0 0;\n",
              "      width: 32px;\n",
              "    }\n",
              "\n",
              "    .colab-df-convert:hover {\n",
              "      background-color: #E2EBFA;\n",
              "      box-shadow: 0px 1px 2px rgba(60, 64, 67, 0.3), 0px 1px 3px 1px rgba(60, 64, 67, 0.15);\n",
              "      fill: #174EA6;\n",
              "    }\n",
              "\n",
              "    .colab-df-buttons div {\n",
              "      margin-bottom: 4px;\n",
              "    }\n",
              "\n",
              "    [theme=dark] .colab-df-convert {\n",
              "      background-color: #3B4455;\n",
              "      fill: #D2E3FC;\n",
              "    }\n",
              "\n",
              "    [theme=dark] .colab-df-convert:hover {\n",
              "      background-color: #434B5C;\n",
              "      box-shadow: 0px 1px 3px 1px rgba(0, 0, 0, 0.15);\n",
              "      filter: drop-shadow(0px 1px 2px rgba(0, 0, 0, 0.3));\n",
              "      fill: #FFFFFF;\n",
              "    }\n",
              "  </style>\n",
              "\n",
              "    <script>\n",
              "      const buttonEl =\n",
              "        document.querySelector('#df-d9d35261-a6b8-40e7-a58c-c9b84e3f9ae7 button.colab-df-convert');\n",
              "      buttonEl.style.display =\n",
              "        google.colab.kernel.accessAllowed ? 'block' : 'none';\n",
              "\n",
              "      async function convertToInteractive(key) {\n",
              "        const element = document.querySelector('#df-d9d35261-a6b8-40e7-a58c-c9b84e3f9ae7');\n",
              "        const dataTable =\n",
              "          await google.colab.kernel.invokeFunction('convertToInteractive',\n",
              "                                                    [key], {});\n",
              "        if (!dataTable) return;\n",
              "\n",
              "        const docLinkHtml = 'Like what you see? Visit the ' +\n",
              "          '<a target=\"_blank\" href=https://colab.research.google.com/notebooks/data_table.ipynb>data table notebook</a>'\n",
              "          + ' to learn more about interactive tables.';\n",
              "        element.innerHTML = '';\n",
              "        dataTable['output_type'] = 'display_data';\n",
              "        await google.colab.output.renderOutput(dataTable, element);\n",
              "        const docLink = document.createElement('div');\n",
              "        docLink.innerHTML = docLinkHtml;\n",
              "        element.appendChild(docLink);\n",
              "      }\n",
              "    </script>\n",
              "  </div>\n",
              "\n",
              "\n",
              "    <div id=\"df-f4ec555c-ee1c-49b2-97a9-0c2b0c3345c7\">\n",
              "      <button class=\"colab-df-quickchart\" onclick=\"quickchart('df-f4ec555c-ee1c-49b2-97a9-0c2b0c3345c7')\"\n",
              "                title=\"Suggest charts\"\n",
              "                style=\"display:none;\">\n",
              "\n",
              "<svg xmlns=\"http://www.w3.org/2000/svg\" height=\"24px\"viewBox=\"0 0 24 24\"\n",
              "     width=\"24px\">\n",
              "    <g>\n",
              "        <path d=\"M19 3H5c-1.1 0-2 .9-2 2v14c0 1.1.9 2 2 2h14c1.1 0 2-.9 2-2V5c0-1.1-.9-2-2-2zM9 17H7v-7h2v7zm4 0h-2V7h2v10zm4 0h-2v-4h2v4z\"/>\n",
              "    </g>\n",
              "</svg>\n",
              "      </button>\n",
              "\n",
              "<style>\n",
              "  .colab-df-quickchart {\n",
              "      --bg-color: #E8F0FE;\n",
              "      --fill-color: #1967D2;\n",
              "      --hover-bg-color: #E2EBFA;\n",
              "      --hover-fill-color: #174EA6;\n",
              "      --disabled-fill-color: #AAA;\n",
              "      --disabled-bg-color: #DDD;\n",
              "  }\n",
              "\n",
              "  [theme=dark] .colab-df-quickchart {\n",
              "      --bg-color: #3B4455;\n",
              "      --fill-color: #D2E3FC;\n",
              "      --hover-bg-color: #434B5C;\n",
              "      --hover-fill-color: #FFFFFF;\n",
              "      --disabled-bg-color: #3B4455;\n",
              "      --disabled-fill-color: #666;\n",
              "  }\n",
              "\n",
              "  .colab-df-quickchart {\n",
              "    background-color: var(--bg-color);\n",
              "    border: none;\n",
              "    border-radius: 50%;\n",
              "    cursor: pointer;\n",
              "    display: none;\n",
              "    fill: var(--fill-color);\n",
              "    height: 32px;\n",
              "    padding: 0;\n",
              "    width: 32px;\n",
              "  }\n",
              "\n",
              "  .colab-df-quickchart:hover {\n",
              "    background-color: var(--hover-bg-color);\n",
              "    box-shadow: 0 1px 2px rgba(60, 64, 67, 0.3), 0 1px 3px 1px rgba(60, 64, 67, 0.15);\n",
              "    fill: var(--button-hover-fill-color);\n",
              "  }\n",
              "\n",
              "  .colab-df-quickchart-complete:disabled,\n",
              "  .colab-df-quickchart-complete:disabled:hover {\n",
              "    background-color: var(--disabled-bg-color);\n",
              "    fill: var(--disabled-fill-color);\n",
              "    box-shadow: none;\n",
              "  }\n",
              "\n",
              "  .colab-df-spinner {\n",
              "    border: 2px solid var(--fill-color);\n",
              "    border-color: transparent;\n",
              "    border-bottom-color: var(--fill-color);\n",
              "    animation:\n",
              "      spin 1s steps(1) infinite;\n",
              "  }\n",
              "\n",
              "  @keyframes spin {\n",
              "    0% {\n",
              "      border-color: transparent;\n",
              "      border-bottom-color: var(--fill-color);\n",
              "      border-left-color: var(--fill-color);\n",
              "    }\n",
              "    20% {\n",
              "      border-color: transparent;\n",
              "      border-left-color: var(--fill-color);\n",
              "      border-top-color: var(--fill-color);\n",
              "    }\n",
              "    30% {\n",
              "      border-color: transparent;\n",
              "      border-left-color: var(--fill-color);\n",
              "      border-top-color: var(--fill-color);\n",
              "      border-right-color: var(--fill-color);\n",
              "    }\n",
              "    40% {\n",
              "      border-color: transparent;\n",
              "      border-right-color: var(--fill-color);\n",
              "      border-top-color: var(--fill-color);\n",
              "    }\n",
              "    60% {\n",
              "      border-color: transparent;\n",
              "      border-right-color: var(--fill-color);\n",
              "    }\n",
              "    80% {\n",
              "      border-color: transparent;\n",
              "      border-right-color: var(--fill-color);\n",
              "      border-bottom-color: var(--fill-color);\n",
              "    }\n",
              "    90% {\n",
              "      border-color: transparent;\n",
              "      border-bottom-color: var(--fill-color);\n",
              "    }\n",
              "  }\n",
              "</style>\n",
              "\n",
              "      <script>\n",
              "        async function quickchart(key) {\n",
              "          const quickchartButtonEl =\n",
              "            document.querySelector('#' + key + ' button');\n",
              "          quickchartButtonEl.disabled = true;  // To prevent multiple clicks.\n",
              "          quickchartButtonEl.classList.add('colab-df-spinner');\n",
              "          try {\n",
              "            const charts = await google.colab.kernel.invokeFunction(\n",
              "                'suggestCharts', [key], {});\n",
              "          } catch (error) {\n",
              "            console.error('Error during call to suggestCharts:', error);\n",
              "          }\n",
              "          quickchartButtonEl.classList.remove('colab-df-spinner');\n",
              "          quickchartButtonEl.classList.add('colab-df-quickchart-complete');\n",
              "        }\n",
              "        (() => {\n",
              "          let quickchartButtonEl =\n",
              "            document.querySelector('#df-f4ec555c-ee1c-49b2-97a9-0c2b0c3345c7 button');\n",
              "          quickchartButtonEl.style.display =\n",
              "            google.colab.kernel.accessAllowed ? 'block' : 'none';\n",
              "        })();\n",
              "      </script>\n",
              "    </div>\n",
              "\n",
              "    </div>\n",
              "  </div>\n"
            ],
            "application/vnd.google.colaboratory.intrinsic+json": {
              "type": "dataframe"
            }
          },
          "metadata": {},
          "execution_count": 16
        }
      ]
    },
    {
      "cell_type": "markdown",
      "source": [
        "## Find the best correlations (numerical)"
      ],
      "metadata": {
        "id": "w7DWOkrRTghA"
      }
    },
    {
      "cell_type": "code",
      "metadata": {
        "id": "2559a8f9",
        "colab": {
          "base_uri": "https://localhost:8080/"
        },
        "outputId": "4da7dbcc-3b1c-4af4-bcfa-eaeae02f3f8d"
      },
      "source": [
        "# Calculate the correlation matrix\n",
        "correlation_matrix = fraud_df.corr(numeric_only=True)\n",
        "\n",
        "# Get the correlations with 'Fraud Label'\n",
        "fraud_correlation = correlation_matrix['Fraud Label'].sort_values(ascending=False)\n",
        "\n",
        "# Display the correlations\n",
        "print(\"Correlation with Fraud Label:\")\n",
        "print(fraud_correlation)"
      ],
      "execution_count": 17,
      "outputs": [
        {
          "output_type": "stream",
          "name": "stdout",
          "text": [
            "Correlation with Fraud Label:\n",
            "Fraud Label                     1.000000\n",
            "Failed Transaction Count 7d     0.509871\n",
            "Risk Score                      0.385810\n",
            "IP Address Flag                 0.003028\n",
            "Transaction Amount              0.001901\n",
            "Avg Transaction Amount 7d       0.000703\n",
            "Is Weekend                      0.000064\n",
            "Transaction Distance           -0.000116\n",
            "Previous Fraudulent Activity   -0.000718\n",
            "Card Age                       -0.003120\n",
            "Account Balance                -0.003153\n",
            "Daily Transaction Count        -0.007065\n",
            "Name: Fraud Label, dtype: float64\n"
          ]
        }
      ]
    },
    {
      "cell_type": "markdown",
      "source": [
        "Visualize these correlations"
      ],
      "metadata": {
        "id": "VtSRy1qPTkI7"
      }
    },
    {
      "cell_type": "code",
      "metadata": {
        "id": "e7784a9b",
        "colab": {
          "base_uri": "https://localhost:8080/",
          "height": 552
        },
        "outputId": "2feb60fd-567b-4c1b-b8c3-e06c2fb95c64"
      },
      "source": [
        "fraud_df.boxplot(column='Failed Transaction Count 7d', by='Fraud Label', figsize=(8, 6))\n",
        "plt.title('Distribution of Failed Transaction Count 7d by Fraud Label')\n",
        "plt.xlabel('Fraud Label')\n",
        "plt.ylabel('Failed Transaction Count 7d')\n",
        "plt.xticks([1, 2], ['No Fraud', 'Fraud']) # Adjust xticks for pandas boxplot output\n",
        "plt.suptitle('') # Suppress the default title generated by pandas\n",
        "plt.show()"
      ],
      "execution_count": 18,
      "outputs": [
        {
          "output_type": "display_data",
          "data": {
            "text/plain": [
              "<Figure size 800x600 with 1 Axes>"
            ],
            "image/png": "[encoded data removed]"
          },
          "metadata": {}
        }
      ]
    },
    {
      "cell_type": "code",
      "source": [
        "fraud_df.boxplot(column='Risk Score', by='Fraud Label', figsize=(8, 6))\n",
        "plt.title('Distribution of Risk Score by Fraud Label')\n",
        "plt.xlabel('Fraud Label')\n",
        "plt.ylabel('Risk Score')\n",
        "plt.xticks([1, 2], ['No Fraud', 'Fraud']) # Adjust xticks for pandas boxplot output\n",
        "plt.suptitle('')\n",
        "plt.show()"
      ],
      "metadata": {
        "id": "EnwykB1oS3He",
        "colab": {
          "base_uri": "https://localhost:8080/",
          "height": 552
        },
        "outputId": "8fb13108-4636-4566-a4dd-385adf5e554e"
      },
      "execution_count": 19,
      "outputs": [
        {
          "output_type": "display_data",
          "data": {
            "text/plain": [
              "<Figure size 800x600 with 1 Axes>"
            ],
            "image/png": "[encoded data removed]"
          },
          "metadata": {}
        }
      ]
    },
    {
      "cell_type": "markdown",
      "source": [
        "Maybe there are values correlated with risk score?"
      ],
      "metadata": {
        "id": "MU5CPVSJTu0K"
      }
    },
    {
      "cell_type": "code",
      "source": [
        "correlation_matrix = fraud_df.corr(numeric_only=True)\n",
        "\n",
        "# Get the correlations with 'Fraud Label'\n",
        "fraud_correlation = correlation_matrix['Risk Score'].sort_values(ascending=False)\n",
        "\n",
        "# Display the correlations\n",
        "print(\"Correlation with Fraud Label:\")\n",
        "print(fraud_correlation)"
      ],
      "metadata": {
        "id": "I06zcaauTnOo",
        "colab": {
          "base_uri": "https://localhost:8080/"
        },
        "outputId": "81947719-f6bf-4a2f-9a60-a5b42e010a35"
      },
      "execution_count": 20,
      "outputs": [
        {
          "output_type": "stream",
          "name": "stdout",
          "text": [
            "Correlation with Fraud Label:\n",
            "Risk Score                      1.000000\n",
            "Fraud Label                     0.385810\n",
            "Transaction Amount              0.005606\n",
            "Avg Transaction Amount 7d       0.004977\n",
            "Failed Transaction Count 7d     0.000814\n",
            "Card Age                       -0.001385\n",
            "Transaction Distance           -0.001902\n",
            "Previous Fraudulent Activity   -0.002815\n",
            "IP Address Flag                -0.004064\n",
            "Is Weekend                     -0.005236\n",
            "Account Balance                -0.005262\n",
            "Daily Transaction Count        -0.007572\n",
            "Name: Risk Score, dtype: float64\n"
          ]
        }
      ]
    },
    {
      "cell_type": "markdown",
      "source": [
        "What about values correlated with failed transaction count?"
      ],
      "metadata": {
        "id": "1E3jCvEyUCj7"
      }
    },
    {
      "cell_type": "code",
      "source": [
        "correlation_matrix = fraud_df.corr(numeric_only=True)\n",
        "\n",
        "# Get the correlations with 'Fraud Label'\n",
        "fraud_correlation = correlation_matrix['Failed Transaction Count 7d'].sort_values(ascending=False)\n",
        "\n",
        "# Display the correlations\n",
        "print(\"Correlation with Fraud Label:\")\n",
        "print(fraud_correlation)"
      ],
      "metadata": {
        "id": "uLtkdbrWT0kl",
        "colab": {
          "base_uri": "https://localhost:8080/"
        },
        "outputId": "1bb75e97-9d2a-4708-f965-eb3a613bd6da"
      },
      "execution_count": 21,
      "outputs": [
        {
          "output_type": "stream",
          "name": "stdout",
          "text": [
            "Correlation with Fraud Label:\n",
            "Failed Transaction Count 7d     1.000000\n",
            "Fraud Label                     0.509871\n",
            "IP Address Flag                 0.010370\n",
            "Avg Transaction Amount 7d       0.006583\n",
            "Transaction Amount              0.001247\n",
            "Risk Score                      0.000814\n",
            "Account Balance                -0.000186\n",
            "Previous Fraudulent Activity   -0.000352\n",
            "Is Weekend                     -0.003335\n",
            "Card Age                       -0.004570\n",
            "Transaction Distance           -0.006997\n",
            "Daily Transaction Count        -0.007820\n",
            "Name: Failed Transaction Count 7d, dtype: float64\n"
          ]
        }
      ]
    },
    {
      "cell_type": "markdown",
      "source": [
        "What about IP Address Flag?"
      ],
      "metadata": {
        "id": "vkVBaO00UOEV"
      }
    },
    {
      "cell_type": "code",
      "source": [
        "'''\n",
        "  IP Address Flag is not correlated with Fraud Label very much\n",
        "'''\n",
        "\n",
        "\n",
        "\n",
        "correlation_matrix = fraud_df.corr(numeric_only=True)\n",
        "\n",
        "# Get the correlations with 'Fraud Label'\n",
        "fraud_correlation = correlation_matrix['IP Address Flag'].sort_values(ascending=False)\n",
        "\n",
        "# Display the correlations\n",
        "print(\"Correlation with Fraud Label:\")\n",
        "print(fraud_correlation)"
      ],
      "metadata": {
        "id": "PPWvu9McUP3-",
        "colab": {
          "base_uri": "https://localhost:8080/"
        },
        "outputId": "57910e56-98f8-4dd3-ebae-6b1305f43541"
      },
      "execution_count": 22,
      "outputs": [
        {
          "output_type": "stream",
          "name": "stdout",
          "text": [
            "Correlation with Fraud Label:\n",
            "IP Address Flag                 1.000000\n",
            "Failed Transaction Count 7d     0.010370\n",
            "Is Weekend                      0.004979\n",
            "Fraud Label                     0.003028\n",
            "Daily Transaction Count         0.001815\n",
            "Account Balance                -0.001210\n",
            "Transaction Amount             -0.001620\n",
            "Card Age                       -0.003143\n",
            "Transaction Distance           -0.003941\n",
            "Risk Score                     -0.004064\n",
            "Avg Transaction Amount 7d      -0.004845\n",
            "Previous Fraudulent Activity   -0.008298\n",
            "Name: IP Address Flag, dtype: float64\n"
          ]
        }
      ]
    },
    {
      "cell_type": "markdown",
      "source": [
        "## Finding correlations (categorical)"
      ],
      "metadata": {
        "id": "88upfzLQhdb0"
      }
    },
    {
      "cell_type": "markdown",
      "source": [
        "How about exploring Location vs fraud"
      ],
      "metadata": {
        "id": "bJ2L4RwJU0ae"
      }
    },
    {
      "cell_type": "code",
      "source": [
        "fraud_df['Location'].value_counts()\n",
        "\n",
        "fraudulent_location_counts = fraud_df[fraud_df['Fraud Label'] == 1]['Location'].value_counts()\n",
        "\n",
        "plt.bar(fraudulent_location_counts.index, fraudulent_location_counts.values)\n",
        "plt.xlabel('Location')\n",
        "plt.ylabel('Count of Fraudulent Transactions')\n",
        "plt.title('Count of Fraudulent Transactions by Location')\n",
        "plt.show()"
      ],
      "metadata": {
        "id": "z3TMcileW3Fy",
        "colab": {
          "base_uri": "https://localhost:8080/",
          "height": 472
        },
        "outputId": "10623dc6-f33a-417d-d54f-0072b3acca15"
      },
      "execution_count": 23,
      "outputs": [
        {
          "output_type": "display_data",
          "data": {
            "text/plain": [
              "<Figure size 640x480 with 1 Axes>"
            ],
            "image/png": "[encoded data removed]"
          },
          "metadata": {}
        }
      ]
    },
    {
      "cell_type": "markdown",
      "source": [
        "What type of card gets the most fraud?"
      ],
      "metadata": {
        "id": "crL1LQA-Ymt2"
      }
    },
    {
      "cell_type": "code",
      "source": [
        "fraudulent_card_counts = fraud_df[fraud_df['Fraud Label'] == 1]['Card Type'].value_counts()\n",
        "\n",
        "plt.bar(fraudulent_card_counts.index, fraudulent_card_counts.values)\n",
        "plt.xlabel('Card Type')\n",
        "plt.ylabel('Count of Fraudulent Transactions')\n",
        "plt.title('Count of Fraudulent Transactions by Card Type')\n",
        "plt.show()"
      ],
      "metadata": {
        "id": "wkC7eFzRYomu",
        "colab": {
          "base_uri": "https://localhost:8080/",
          "height": 472
        },
        "outputId": "72b34dda-c2cf-4aa6-d153-ca98603e115a"
      },
      "execution_count": 24,
      "outputs": [
        {
          "output_type": "display_data",
          "data": {
            "text/plain": [
              "<Figure size 640x480 with 1 Axes>"
            ],
            "image/png": "[encoded data removed]"
          },
          "metadata": {}
        }
      ]
    },
    {
      "cell_type": "markdown",
      "source": [
        "Transaction type and fraud"
      ],
      "metadata": {
        "id": "qk_jBTGsU4TN"
      }
    },
    {
      "cell_type": "code",
      "source": [
        "fraudulent_trans_counts = fraud_df[fraud_df['Fraud Label'] == 1]['Transaction Type'].value_counts()\n",
        "\n",
        "plt.bar(fraudulent_trans_counts.index, fraudulent_trans_counts.values)\n",
        "plt.xlabel('Transaction Type')\n",
        "plt.ylabel('Count of Fraudulent Transactions')\n",
        "plt.title('Count of Fraudulent Transactions by Transaction Type')\n",
        "plt.show()\n",
        "print(fraud_df['Transaction Type'].value_counts())"
      ],
      "metadata": {
        "colab": {
          "base_uri": "https://localhost:8080/",
          "height": 576
        },
        "id": "7HS56sR5VDA-",
        "outputId": "a167d983-2126-497d-a3c6-211a6581e71c"
      },
      "execution_count": 67,
      "outputs": [
        {
          "output_type": "display_data",
          "data": {
            "text/plain": [
              "<Figure size 640x480 with 1 Axes>"
            ],
            "image/png": "[encoded data removed]"
          },
          "metadata": {}
        },
        {
          "output_type": "stream",
          "name": "stdout",
          "text": [
            "Transaction Type\n",
            "POS               12549\n",
            "Online            12546\n",
            "ATM Withdrawal    12453\n",
            "Bank Transfer     12452\n",
            "Name: count, dtype: int64\n"
          ]
        }
      ]
    },
    {
      "cell_type": "markdown",
      "source": [
        "Authentication method and fraud"
      ],
      "metadata": {
        "id": "3epTcIVad7mv"
      }
    },
    {
      "cell_type": "code",
      "source": [
        "fraudulent_auth_counts = fraud_df[fraud_df['Fraud Label'] == 1]['Authentication Method'].value_counts()\n",
        "\n",
        "plt.bar(fraudulent_auth_counts.index, fraudulent_auth_counts.values)\n",
        "plt.xlabel('Authentication Method')\n",
        "plt.ylabel('Count of Fraudulent Transactions')\n",
        "plt.title('Count of Fraudulent Transactions by Authentication Method')\n",
        "plt.show()\n",
        "print(fraud_df['Authentication Method'].value_counts())"
      ],
      "metadata": {
        "id": "17XOiUlceHka",
        "colab": {
          "base_uri": "https://localhost:8080/",
          "height": 594
        },
        "outputId": "e6bb37d3-3156-4851-91ba-275cd5f87b7d"
      },
      "execution_count": 25,
      "outputs": [
        {
          "output_type": "display_data",
          "data": {
            "text/plain": [
              "<Figure size 640x480 with 1 Axes>"
            ],
            "image/png": "[encoded data removed]"
          },
          "metadata": {}
        },
        {
          "output_type": "stream",
          "name": "stdout",
          "text": [
            "Merchant Category\n",
            "Clothing       10033\n",
            "Groceries      10019\n",
            "Travel         10015\n",
            "Restaurants     9976\n",
            "Electronics     9957\n",
            "Name: count, dtype: int64\n"
          ]
        }
      ]
    },
    {
      "cell_type": "markdown",
      "source": [
        "Merchant Category and fraud"
      ],
      "metadata": {
        "id": "fIqetYX_elKD"
      }
    },
    {
      "cell_type": "code",
      "source": [
        "fraudulent_merch_counts = fraud_df[fraud_df['Fraud Label'] == 1]['Merchant Category'].value_counts()\n",
        "\n",
        "plt.bar(fraudulent_merch_counts.index, fraudulent_merch_counts.values)\n",
        "plt.xlabel('Merchant Category')\n",
        "plt.ylabel('Count of Fraudulent Transactions')\n",
        "plt.title('Count of Fraudulent Transactions by Merchant Category')\n",
        "plt.show()"
      ],
      "metadata": {
        "id": "p-KpGoosemrY",
        "colab": {
          "base_uri": "https://localhost:8080/",
          "height": 472
        },
        "outputId": "3f457a46-29b7-40a8-ddbc-16ca259d0ebe"
      },
      "execution_count": 26,
      "outputs": [
        {
          "output_type": "display_data",
          "data": {
            "text/plain": [
              "<Figure size 640x480 with 1 Axes>"
            ],
            "image/png": "[encoded data removed]"
          },
          "metadata": {}
        }
      ]
    },
    {
      "cell_type": "markdown",
      "source": [
        "Here is proof that timestamps will not be helpful"
      ],
      "metadata": {
        "id": "wLcE-rlcg6vx"
      }
    },
    {
      "cell_type": "code",
      "source": [
        "len(fraud_df['Timestamp'].unique())"
      ],
      "metadata": {
        "id": "zjaE1wxMglPz",
        "colab": {
          "base_uri": "https://localhost:8080/"
        },
        "outputId": "4a26d623-2727-40bc-d9d7-62628b7fd4c0"
      },
      "execution_count": 27,
      "outputs": [
        {
          "output_type": "execute_result",
          "data": {
            "text/plain": [
              "47724"
            ]
          },
          "metadata": {},
          "execution_count": 27
        }
      ]
    },
    {
      "cell_type": "code",
      "source": [
        "print(fraud_df.dtypes)\n",
        "print(fraud_df['Transaction Type'].unique())\n",
        "print(fraud_df['Device Type'].unique())\n",
        "print(fraud_df['Location'].unique())\n",
        "print(fraud_df['Merchant Category'].unique())\n",
        "print(fraud_df['Card Type'].unique())\n",
        "print(fraud_df['Authentication Method'].unique())"
      ],
      "metadata": {
        "colab": {
          "base_uri": "https://localhost:8080/"
        },
        "id": "1ueew3zz9AM5",
        "outputId": "608124e8-54a5-4192-c044-56590e666999"
      },
      "execution_count": 28,
      "outputs": [
        {
          "output_type": "stream",
          "name": "stdout",
          "text": [
            "Transaction ID                   object\n",
            "User ID                          object\n",
            "Transaction Amount              float64\n",
            "Transaction Type                 object\n",
            "Timestamp                        object\n",
            "Account Balance                 float64\n",
            "Device Type                      object\n",
            "Location                         object\n",
            "Merchant Category                object\n",
            "IP Address Flag                   int64\n",
            "Previous Fraudulent Activity      int64\n",
            "Daily Transaction Count           int64\n",
            "Avg Transaction Amount 7d       float64\n",
            "Failed Transaction Count 7d       int64\n",
            "Card Type                        object\n",
            "Card Age                          int64\n",
            "Transaction Distance            float64\n",
            "Authentication Method            object\n",
            "Risk Score                      float64\n",
            "Is Weekend                        int64\n",
            "Fraud Label                       int64\n",
            "Risk Category                    object\n",
            "dtype: object\n",
            "['POS' 'Bank Transfer' 'Online' 'ATM Withdrawal']\n",
            "['Laptop' 'Mobile' 'Tablet']\n",
            "['Sydney' 'New York' 'Mumbai' 'Tokyo' 'London']\n",
            "['Travel' 'Clothing' 'Restaurants' 'Electronics' 'Groceries']\n",
            "['Amex' 'Mastercard' 'Visa' 'Discover']\n",
            "['Biometric' 'Password' 'OTP' 'PIN']\n"
          ]
        }
      ]
    },
    {
      "cell_type": "code",
      "metadata": {
        "colab": {
          "base_uri": "https://localhost:8080/"
        },
        "id": "3391840f",
        "outputId": "9e188983-e701-4b5a-edc3-d81cefa7a02a"
      },
      "source": [
        "categorical_columns = ['Transaction Type', 'Device Type', 'Location', 'Merchant Category', 'Card Type', 'Authentication Method']\n",
        "fraud_encoded = pd.get_dummies(fraud_df, columns=categorical_columns, drop_first=True)\n",
        "print(fraud_encoded.head())"
      ],
      "execution_count": 29,
      "outputs": [
        {
          "output_type": "stream",
          "name": "stdout",
          "text": [
            "  Transaction ID    User ID  Transaction Amount            Timestamp  \\\n",
            "0      TXN_33553  USER_1834               39.79  2023-08-14 19:30:00   \n",
            "1       TXN_9427  USER_7875                1.19  2023-06-07 04:01:00   \n",
            "2        TXN_199  USER_2734               28.96  2023-06-20 15:25:00   \n",
            "3      TXN_12447  USER_2617              254.32  2023-12-07 00:31:00   \n",
            "4      TXN_39489  USER_2014               31.28  2023-11-11 23:44:00   \n",
            "\n",
            "   Account Balance  IP Address Flag  Previous Fraudulent Activity  \\\n",
            "0         93213.17                0                             0   \n",
            "1         75725.25                0                             0   \n",
            "2          1588.96                0                             0   \n",
            "3         76807.20                0                             0   \n",
            "4         92354.66                0                             1   \n",
            "\n",
            "   Daily Transaction Count  Avg Transaction Amount 7d  \\\n",
            "0                        7                     437.63   \n",
            "1                       13                     478.76   \n",
            "2                       14                      50.01   \n",
            "3                        8                     182.48   \n",
            "4                       14                     328.69   \n",
            "\n",
            "   Failed Transaction Count 7d  ...  Merchant Category_Electronics  \\\n",
            "0                            3  ...                          False   \n",
            "1                            4  ...                          False   \n",
            "2                            4  ...                          False   \n",
            "3                            4  ...                          False   \n",
            "4                            4  ...                           True   \n",
            "\n",
            "   Merchant Category_Groceries  Merchant Category_Restaurants  \\\n",
            "0                        False                          False   \n",
            "1                        False                          False   \n",
            "2                        False                           True   \n",
            "3                        False                          False   \n",
            "4                        False                          False   \n",
            "\n",
            "   Merchant Category_Travel  Card Type_Discover Card Type_Mastercard  \\\n",
            "0                      True               False                False   \n",
            "1                     False               False                 True   \n",
            "2                     False               False                False   \n",
            "3                     False               False                False   \n",
            "4                     False               False                 True   \n",
            "\n",
            "   Card Type_Visa  Authentication Method_OTP  Authentication Method_PIN  \\\n",
            "0           False                      False                      False   \n",
            "1           False                      False                      False   \n",
            "2            True                      False                      False   \n",
            "3            True                       True                      False   \n",
            "4           False                      False                      False   \n",
            "\n",
            "   Authentication Method_Password  \n",
            "0                           False  \n",
            "1                            True  \n",
            "2                           False  \n",
            "3                           False  \n",
            "4                            True  \n",
            "\n",
            "[5 rows x 35 columns]\n"
          ]
        }
      ]
    },
    {
      "cell_type": "code",
      "metadata": {
        "colab": {
          "base_uri": "https://localhost:8080/"
        },
        "id": "a003011e",
        "outputId": "d61f8017-7e11-474d-c37a-ea5477fb38f7"
      },
      "source": [
        "correlation_matrix_encoded = fraud_encoded.corr(numeric_only=True)\n",
        "encoded_fraud_correlation = correlation_matrix_encoded['Fraud Label'].sort_values(ascending=False)\n",
        "print(\"Correlation with Fraud Label (including encoded variables):\")\n",
        "print(encoded_fraud_correlation)"
      ],
      "execution_count": 30,
      "outputs": [
        {
          "output_type": "stream",
          "name": "stdout",
          "text": [
            "Correlation with Fraud Label (including encoded variables):\n",
            "Fraud Label                       1.000000\n",
            "Failed Transaction Count 7d       0.509871\n",
            "Risk Score                        0.385810\n",
            "Device Type_Tablet                0.006552\n",
            "Merchant Category_Restaurants     0.005285\n",
            "Authentication Method_OTP         0.004696\n",
            "Card Type_Discover                0.004424\n",
            "Location_New York                 0.003750\n",
            "Location_Tokyo                    0.003693\n",
            "IP Address Flag                   0.003028\n",
            "Authentication Method_Password    0.002680\n",
            "Transaction Amount                0.001901\n",
            "Merchant Category_Travel          0.001796\n",
            "Avg Transaction Amount 7d         0.000703\n",
            "Is Weekend                        0.000064\n",
            "Location_Sydney                   0.000056\n",
            "Transaction Type_Online          -0.000053\n",
            "Transaction Distance             -0.000116\n",
            "Merchant Category_Groceries      -0.000268\n",
            "Transaction Type_Bank Transfer   -0.000626\n",
            "Previous Fraudulent Activity     -0.000718\n",
            "Merchant Category_Electronics    -0.002207\n",
            "Card Age                         -0.003120\n",
            "Account Balance                  -0.003153\n",
            "Card Type_Visa                   -0.003360\n",
            "Transaction Type_POS             -0.003704\n",
            "Device Type_Mobile               -0.003826\n",
            "Card Type_Mastercard             -0.004012\n",
            "Location_Mumbai                  -0.005941\n",
            "Authentication Method_PIN        -0.006551\n",
            "Daily Transaction Count          -0.007065\n",
            "Name: Fraud Label, dtype: float64\n"
          ]
        }
      ]
    },
    {
      "cell_type": "code",
      "metadata": {
        "colab": {
          "base_uri": "https://localhost:8080/"
        },
        "id": "d184a98a",
        "outputId": "ea0914c8-1320-4639-eb5a-698ab4edd20d"
      },
      "source": [
        "print(encoded_fraud_correlation)"
      ],
      "execution_count": 31,
      "outputs": [
        {
          "output_type": "stream",
          "name": "stdout",
          "text": [
            "Fraud Label                       1.000000\n",
            "Failed Transaction Count 7d       0.509871\n",
            "Risk Score                        0.385810\n",
            "Device Type_Tablet                0.006552\n",
            "Merchant Category_Restaurants     0.005285\n",
            "Authentication Method_OTP         0.004696\n",
            "Card Type_Discover                0.004424\n",
            "Location_New York                 0.003750\n",
            "Location_Tokyo                    0.003693\n",
            "IP Address Flag                   0.003028\n",
            "Authentication Method_Password    0.002680\n",
            "Transaction Amount                0.001901\n",
            "Merchant Category_Travel          0.001796\n",
            "Avg Transaction Amount 7d         0.000703\n",
            "Is Weekend                        0.000064\n",
            "Location_Sydney                   0.000056\n",
            "Transaction Type_Online          -0.000053\n",
            "Transaction Distance             -0.000116\n",
            "Merchant Category_Groceries      -0.000268\n",
            "Transaction Type_Bank Transfer   -0.000626\n",
            "Previous Fraudulent Activity     -0.000718\n",
            "Merchant Category_Electronics    -0.002207\n",
            "Card Age                         -0.003120\n",
            "Account Balance                  -0.003153\n",
            "Card Type_Visa                   -0.003360\n",
            "Transaction Type_POS             -0.003704\n",
            "Device Type_Mobile               -0.003826\n",
            "Card Type_Mastercard             -0.004012\n",
            "Location_Mumbai                  -0.005941\n",
            "Authentication Method_PIN        -0.006551\n",
            "Daily Transaction Count          -0.007065\n",
            "Name: Fraud Label, dtype: float64\n"
          ]
        }
      ]
    },
    {
      "cell_type": "markdown",
      "source": [
        "## Conclusions from EDA:\n",
        "\n",
        "Numerical: The best indicators for calculating fraud are Failed Transaction Count 7d and Risk Score.\n",
        "\n",
        "Categorical: Device Type Tablet has the largest correlation with fraud, however this correlation is quite weak.\n",
        "\n",
        "The best model to use is **k nearest neighbors** with Failed Transaction Count 7d and Risk Score. (given that Fraud Label is binary)"
      ],
      "metadata": {
        "id": "-aeCHjebidmk"
      }
    },
    {
      "cell_type": "markdown",
      "source": [
        "# K Nearest Neighbors with all features\n",
        "As previously established, The best two features for detecting Fraud (Fraud Label) are 'Failed Transaction Count 7d' and 'Risk Score'. Let's implement a KNN model to try and predict fraud using these two best features."
      ],
      "metadata": {
        "id": "QcGSvb9JLdyF"
      }
    },
    {
      "cell_type": "markdown",
      "source": [
        "Isolate features"
      ],
      "metadata": {
        "id": "xbpPSd5RL2Nr"
      }
    },
    {
      "cell_type": "code",
      "source": [
        "features = fraud_df.drop('Fraud Label', axis = 1)\n",
        "features = features.select_dtypes(exclude=['object'])\n",
        "label = fraud_df['Fraud Label']"
      ],
      "metadata": {
        "id": "wCCdLTRKMajN"
      },
      "execution_count": 32,
      "outputs": []
    },
    {
      "cell_type": "markdown",
      "source": [
        "Split the data"
      ],
      "metadata": {
        "id": "7vbtBDJCMi-n"
      }
    },
    {
      "cell_type": "code",
      "source": [
        "X_train, X_test, y_train, y_test = model_selection.train_test_split(features, label, test_size = 0.2, random_state = 42)"
      ],
      "metadata": {
        "id": "cGELsuyNMpGo"
      },
      "execution_count": 33,
      "outputs": []
    },
    {
      "cell_type": "markdown",
      "source": [
        "Start KNN model"
      ],
      "metadata": {
        "id": "jl2xseGPMrxa"
      }
    },
    {
      "cell_type": "code",
      "source": [
        "model = KNeighborsClassifier(n_neighbors = 5)"
      ],
      "metadata": {
        "id": "RJyzODf3MtQI"
      },
      "execution_count": 34,
      "outputs": []
    },
    {
      "cell_type": "markdown",
      "source": [
        "Fit the data and make predictions"
      ],
      "metadata": {
        "id": "aQ33O5TxMvZH"
      }
    },
    {
      "cell_type": "code",
      "source": [
        "model.fit(X_train, y_train)\n",
        "pred = model.predict(X_test)"
      ],
      "metadata": {
        "id": "ktOtZk2-Mwj-"
      },
      "execution_count": 35,
      "outputs": []
    },
    {
      "cell_type": "markdown",
      "source": [
        "## Confusion Matrix, Accuracy score, and F1 Score"
      ],
      "metadata": {
        "id": "7FQT-srUNaLn"
      }
    },
    {
      "cell_type": "code",
      "source": [
        "metrics.ConfusionMatrixDisplay.from_predictions(y_test, pred, display_labels=['Actual No Fraud', 'Actual Fraud'])"
      ],
      "metadata": {
        "colab": {
          "base_uri": "https://localhost:8080/",
          "height": 466
        },
        "id": "ZPOf6zqCNdB2",
        "outputId": "811ec23d-178f-45aa-b04f-2bb00a3fbed0"
      },
      "execution_count": 36,
      "outputs": [
        {
          "output_type": "execute_result",
          "data": {
            "text/plain": [
              "<sklearn.metrics._plot.confusion_matrix.ConfusionMatrixDisplay at 0x78eae597ef90>"
            ]
          },
          "metadata": {},
          "execution_count": 36
        },
        {
          "output_type": "display_data",
          "data": {
            "text/plain": [
              "<Figure size 640x480 with 2 Axes>"
            ],
            "image/png": "[encoded data removed]"
          },
          "metadata": {}
        }
      ]
    },
    {
      "cell_type": "code",
      "source": [
        "print(\"Accuracy Score: \", metrics.accuracy_score(y_test, pred))"
      ],
      "metadata": {
        "colab": {
          "base_uri": "https://localhost:8080/"
        },
        "id": "QHK6gv3eNglq",
        "outputId": "5e2c10d6-9009-48bd-ba4e-40d92f81fb3c"
      },
      "execution_count": 37,
      "outputs": [
        {
          "output_type": "stream",
          "name": "stdout",
          "text": [
            "Accuracy Score:  0.606\n"
          ]
        }
      ]
    },
    {
      "cell_type": "code",
      "source": [
        "f1 = metrics.f1_score(y_test, pred)\n",
        "\n",
        "print(f\"F1 Score: {f1}\")"
      ],
      "metadata": {
        "colab": {
          "base_uri": "https://localhost:8080/"
        },
        "id": "8IXIveslNilv",
        "outputId": "474cbda8-e76e-420e-dbd6-bd07488dfb8b"
      },
      "execution_count": 38,
      "outputs": [
        {
          "output_type": "stream",
          "name": "stdout",
          "text": [
            "F1 Score: 0.2373209446380178\n"
          ]
        }
      ]
    },
    {
      "cell_type": "markdown",
      "source": [
        "## K Fold Cross Validation"
      ],
      "metadata": {
        "id": "Cf4vGxERNnOM"
      }
    },
    {
      "cell_type": "code",
      "source": [
        "knn_5 = KNeighborsClassifier(n_neighbors = 5)\n",
        "\n",
        "scores_5 = model_selection.cross_val_score(knn_5, X_train, y_train, cv = 10)\n",
        "print(\"10-Folds CV Scores: \" + str(scores_5.mean()) + \" +/- \" + str(scores_5.std()))"
      ],
      "metadata": {
        "colab": {
          "base_uri": "https://localhost:8080/"
        },
        "id": "j--F7SYsNpTH",
        "outputId": "7ca5c79a-c924-4d96-8f72-3264170f80a7"
      },
      "execution_count": 39,
      "outputs": [
        {
          "output_type": "stream",
          "name": "stdout",
          "text": [
            "10-Folds CV Scores: 0.6152 +/- 0.010046641229784211\n"
          ]
        }
      ]
    },
    {
      "cell_type": "code",
      "source": [
        "plt.plot(scores_5, label = '5NN')\n",
        "plt.plot([scores_5.mean() for i in range(10)], label = 'average')\n",
        "\n",
        "plt.xlabel('Fold')\n",
        "plt.ylabel('Accuracy')\n",
        "plt.legend()\n",
        "\n",
        "plt.show()"
      ],
      "metadata": {
        "colab": {
          "base_uri": "https://localhost:8080/",
          "height": 449
        },
        "id": "wwGSZYCHNtX6",
        "outputId": "163d4eb5-48b9-46cb-92db-0b98926b4f1b"
      },
      "execution_count": 40,
      "outputs": [
        {
          "output_type": "display_data",
          "data": {
            "text/plain": [
              "<Figure size 640x480 with 1 Axes>"
            ],
            "image/png": "[encoded data removed]"
          },
          "metadata": {}
        }
      ]
    },
    {
      "cell_type": "markdown",
      "source": [
        "# K Nearest Neighbors with best features\n",
        "\n",
        "Using all the features clearly leads to low accuracy, so let us attempt the same machine learning model but with only the two best features, 'Failed Transaction Count 7d' and 'Risk Score'."
      ],
      "metadata": {
        "id": "WHJc6GThCAVf"
      }
    },
    {
      "cell_type": "markdown",
      "source": [
        "Isolate the features"
      ],
      "metadata": {
        "id": "nSfhriHhFJcj"
      }
    },
    {
      "cell_type": "code",
      "source": [
        "features = fraud_df[['Failed Transaction Count 7d', 'Risk Score']]\n",
        "label = fraud_df['Fraud Label']"
      ],
      "metadata": {
        "id": "ovGiy2t3FCiL"
      },
      "execution_count": 41,
      "outputs": []
    },
    {
      "cell_type": "markdown",
      "source": [
        "Split the data"
      ],
      "metadata": {
        "id": "jL0D3FSwFIgd"
      }
    },
    {
      "cell_type": "code",
      "source": [
        "X_train, X_test, y_train, y_test = model_selection.train_test_split(features, label, test_size = 0.2, random_state = 42)"
      ],
      "metadata": {
        "id": "F1cFMuHnE8UA"
      },
      "execution_count": 42,
      "outputs": []
    },
    {
      "cell_type": "markdown",
      "source": [
        "Start KNN model"
      ],
      "metadata": {
        "id": "9op3Yy5MHulu"
      }
    },
    {
      "cell_type": "code",
      "source": [
        "model = KNeighborsClassifier(n_neighbors = 5)"
      ],
      "metadata": {
        "id": "UDrZh6A9IKCx"
      },
      "execution_count": 43,
      "outputs": []
    },
    {
      "cell_type": "markdown",
      "source": [
        "Fit the data and make predictions"
      ],
      "metadata": {
        "id": "_4Rjg3kFIL-l"
      }
    },
    {
      "cell_type": "code",
      "source": [
        "model.fit(X_train, y_train)\n",
        "pred = model.predict(X_test)"
      ],
      "metadata": {
        "id": "dHyk5wgQINzi"
      },
      "execution_count": 44,
      "outputs": []
    },
    {
      "cell_type": "markdown",
      "source": [
        "## Decision Boundary"
      ],
      "metadata": {
        "id": "5D7qW5PtVhxH"
      }
    },
    {
      "cell_type": "code",
      "metadata": {
        "colab": {
          "base_uri": "https://localhost:8080/",
          "height": 564
        },
        "id": "807e028e",
        "outputId": "982fb5a0-d8b1-423b-fe56-fb0f7b60b4b3"
      },
      "source": [
        "fig, ax = plt.subplots(figsize=(10,6))\n",
        "\n",
        "x_min, x_max = X_train['Failed Transaction Count 7d'].min() - 1, X_train['Failed Transaction Count 7d'].max() + 1\n",
        "y_min, y_max = X_train['Risk Score'].min() - 0.1, X_train['Risk Score'].max() + 0.1\n",
        "xx, yy = np.meshgrid(np.arange(x_min, x_max, 0.1),\n",
        "                     np.arange(y_min, y_max, 0.01))\n",
        "\n",
        "Z = model.predict(np.c_[xx.ravel(), yy.ravel()])\n",
        "Z = Z.reshape(xx.shape)\n",
        "\n",
        "ax.pcolormesh(xx, yy, Z, alpha=0.2, cmap=plt.cm.RdYlGn)\n",
        "\n",
        "scatter = ax.scatter(X_train['Failed Transaction Count 7d'], X_train['Risk Score'], c=y_train, edgecolor='k', s=20, cmap=plt.cm.RdYlGn)\n",
        "\n",
        "ax.set_title(\"Decision Boundary of the KNN Classifier\")\n",
        "ax.set_xlabel(\"Failed Transaction Count 7d\")\n",
        "ax.set_ylabel(\"Risk Score\")\n",
        "\n",
        "legend = ax.legend(*scatter.legend_elements(),\n",
        "                    loc=\"lower left\", title=\"Fraud Label\")\n",
        "ax.add_artist(legend)\n",
        "\n",
        "\n",
        "plt.show()"
      ],
      "execution_count": 45,
      "outputs": [
        {
          "output_type": "display_data",
          "data": {
            "text/plain": [
              "<Figure size 1000x600 with 1 Axes>"
            ],
            "image/png": "[encoded data removed]"
          },
          "metadata": {}
        }
      ]
    },
    {
      "cell_type": "markdown",
      "source": [
        "## Confusion Matrix, accuracy score, and F1 score"
      ],
      "metadata": {
        "id": "889QKdX5Ve4_"
      }
    },
    {
      "cell_type": "code",
      "source": [
        "metrics.ConfusionMatrixDisplay.from_predictions(y_test, pred, display_labels=['Actual No Fraud', 'Actual Fraud'])"
      ],
      "metadata": {
        "colab": {
          "base_uri": "https://localhost:8080/",
          "height": 466
        },
        "id": "2ZaSHMpyUJ7a",
        "outputId": "29328caa-f1b0-4a82-da67-3c8d063164f0"
      },
      "execution_count": 46,
      "outputs": [
        {
          "output_type": "execute_result",
          "data": {
            "text/plain": [
              "<sklearn.metrics._plot.confusion_matrix.ConfusionMatrixDisplay at 0x78eae588e310>"
            ]
          },
          "metadata": {},
          "execution_count": 46
        },
        {
          "output_type": "display_data",
          "data": {
            "text/plain": [
              "<Figure size 640x480 with 2 Axes>"
            ],
            "image/png": "[encoded data removed]"
          },
          "metadata": {}
        }
      ]
    },
    {
      "cell_type": "code",
      "source": [
        "print(\"Accuracy Score: \", metrics.accuracy_score(y_test, pred))"
      ],
      "metadata": {
        "colab": {
          "base_uri": "https://localhost:8080/"
        },
        "id": "uIJAYVCgVk1o",
        "outputId": "c15f04b6-9c19-4f62-8557-a3f27b7e41ed"
      },
      "execution_count": 47,
      "outputs": [
        {
          "output_type": "stream",
          "name": "stdout",
          "text": [
            "Accuracy Score:  1.0\n"
          ]
        }
      ]
    },
    {
      "cell_type": "code",
      "source": [
        "f1 = metrics.f1_score(y_test, pred)\n",
        "\n",
        "print(f\"F1 Score: {f1}\")"
      ],
      "metadata": {
        "colab": {
          "base_uri": "https://localhost:8080/"
        },
        "id": "N4YQGdNKkJLg",
        "outputId": "6342bc22-7421-46e7-8014-991324944d42"
      },
      "execution_count": 48,
      "outputs": [
        {
          "output_type": "stream",
          "name": "stdout",
          "text": [
            "F1 Score: 1.0\n"
          ]
        }
      ]
    },
    {
      "cell_type": "markdown",
      "source": [
        "## K fold cross validation"
      ],
      "metadata": {
        "id": "CmHypCzjZWxL"
      }
    },
    {
      "cell_type": "code",
      "source": [
        "knn_5 = KNeighborsClassifier(n_neighbors = 5)\n",
        "\n",
        "scores_5 = model_selection.cross_val_score(knn_5, X_train, y_train, cv = 10)\n",
        "print(\"10-Folds CV Scores: \" + str(scores_5.mean()) + \" +/- \" + str(scores_5.std()))"
      ],
      "metadata": {
        "colab": {
          "base_uri": "https://localhost:8080/"
        },
        "id": "l-o30lzMZkDm",
        "outputId": "a2de91e2-24e8-47fd-ad6d-74dd07fa841c"
      },
      "execution_count": 49,
      "outputs": [
        {
          "output_type": "stream",
          "name": "stdout",
          "text": [
            "10-Folds CV Scores: 0.99975 +/- 0.0002499999999999947\n"
          ]
        }
      ]
    },
    {
      "cell_type": "code",
      "source": [
        "plt.plot(scores_5, label = '5NN')\n",
        "plt.plot([scores_5.mean() for i in range(10)], label = 'average')\n",
        "\n",
        "plt.xlabel('Fold')\n",
        "plt.ylabel('Accuracy')\n",
        "plt.legend()\n",
        "\n",
        "plt.show()"
      ],
      "metadata": {
        "colab": {
          "base_uri": "https://localhost:8080/",
          "height": 449
        },
        "id": "kq5RcV5wZwNJ",
        "outputId": "0fef7d86-f3fa-4ce2-a01d-c95ad250839b"
      },
      "execution_count": 50,
      "outputs": [
        {
          "output_type": "display_data",
          "data": {
            "text/plain": [
              "<Figure size 640x480 with 1 Axes>"
            ],
            "image/png": "[encoded data removed]"
          },
          "metadata": {}
        }
      ]
    },
    {
      "cell_type": "markdown",
      "source": [
        "# KNN without best features\n",
        "\n",
        "I would like to see the impact of the \"best\" columns (according to the correlations method) on the KNN model."
      ],
      "metadata": {
        "id": "09e4nvHRkRr4"
      }
    },
    {
      "cell_type": "markdown",
      "source": [
        "Features WITHOUT best features. Label is kept the same."
      ],
      "metadata": {
        "id": "8dANZA5Rl4Je"
      }
    },
    {
      "cell_type": "code",
      "source": [
        "features = fraud_encoded.drop(['Failed Transaction Count 7d','Risk Score'], axis = 1)\n",
        "features = features.select_dtypes(exclude=['object']) #we cannot coerce strings to be floats sadly (so no more transaction and user ID)\n",
        "label = fraud_encoded['Fraud Label']\n",
        "features.head()"
      ],
      "metadata": {
        "colab": {
          "base_uri": "https://localhost:8080/",
          "height": 290
        },
        "id": "ZcoGdSlek8Jp",
        "outputId": "f11f2415-5376-4db5-e65b-68f4808f31d3"
      },
      "execution_count": 51,
      "outputs": [
        {
          "output_type": "execute_result",
          "data": {
            "text/plain": [
              "   Transaction Amount  Account Balance  IP Address Flag  \\\n",
              "0               39.79         93213.17                0   \n",
              "1                1.19         75725.25                0   \n",
              "2               28.96          1588.96                0   \n",
              "3              254.32         76807.20                0   \n",
              "4               31.28         92354.66                0   \n",
              "\n",
              "   Previous Fraudulent Activity  Daily Transaction Count  \\\n",
              "0                             0                        7   \n",
              "1                             0                       13   \n",
              "2                             0                       14   \n",
              "3                             0                        8   \n",
              "4                             1                       14   \n",
              "\n",
              "   Avg Transaction Amount 7d  Card Age  Transaction Distance  Is Weekend  \\\n",
              "0                     437.63        65                883.17           0   \n",
              "1                     478.76       186               2203.36           0   \n",
              "2                      50.01       226               1909.29           0   \n",
              "3                     182.48        76               1311.86           0   \n",
              "4                     328.69       140                966.98           1   \n",
              "\n",
              "   Fraud Label  ...  Merchant Category_Electronics  \\\n",
              "0            0  ...                          False   \n",
              "1            1  ...                          False   \n",
              "2            1  ...                          False   \n",
              "3            1  ...                          False   \n",
              "4            1  ...                           True   \n",
              "\n",
              "   Merchant Category_Groceries  Merchant Category_Restaurants  \\\n",
              "0                        False                          False   \n",
              "1                        False                          False   \n",
              "2                        False                           True   \n",
              "3                        False                          False   \n",
              "4                        False                          False   \n",
              "\n",
              "   Merchant Category_Travel  Card Type_Discover  Card Type_Mastercard  \\\n",
              "0                      True               False                 False   \n",
              "1                     False               False                  True   \n",
              "2                     False               False                 False   \n",
              "3                     False               False                 False   \n",
              "4                     False               False                  True   \n",
              "\n",
              "   Card Type_Visa  Authentication Method_OTP  Authentication Method_PIN  \\\n",
              "0           False                      False                      False   \n",
              "1           False                      False                      False   \n",
              "2            True                      False                      False   \n",
              "3            True                       True                      False   \n",
              "4           False                      False                      False   \n",
              "\n",
              "   Authentication Method_Password  \n",
              "0                           False  \n",
              "1                            True  \n",
              "2                           False  \n",
              "3                           False  \n",
              "4                            True  \n",
              "\n",
              "[5 rows x 29 columns]"
            ],
            "text/html": [
              "\n",
              "  <div id=\"df-65d74d81-f494-458a-9210-147fec6a7fda\" class=\"colab-df-container\">\n",
              "    <div>\n",
              "<style scoped>\n",
              "    .dataframe tbody tr th:only-of-type {\n",
              "        vertical-align: middle;\n",
              "    }\n",
              "\n",
              "    .dataframe tbody tr th {\n",
              "        vertical-align: top;\n",
              "    }\n",
              "\n",
              "    .dataframe thead th {\n",
              "        text-align: right;\n",
              "    }\n",
              "</style>\n",
              "<table border=\"1\" class=\"dataframe\">\n",
              "  <thead>\n",
              "    <tr style=\"text-align: right;\">\n",
              "      <th></th>\n",
              "      <th>Transaction Amount</th>\n",
              "      <th>Account Balance</th>\n",
              "      <th>IP Address Flag</th>\n",
              "      <th>Previous Fraudulent Activity</th>\n",
              "      <th>Daily Transaction Count</th>\n",
              "      <th>Avg Transaction Amount 7d</th>\n",
              "      <th>Card Age</th>\n",
              "      <th>Transaction Distance</th>\n",
              "      <th>Is Weekend</th>\n",
              "      <th>Fraud Label</th>\n",
              "      <th>...</th>\n",
              "      <th>Merchant Category_Electronics</th>\n",
              "      <th>Merchant Category_Groceries</th>\n",
              "      <th>Merchant Category_Restaurants</th>\n",
              "      <th>Merchant Category_Travel</th>\n",
              "      <th>Card Type_Discover</th>\n",
              "      <th>Card Type_Mastercard</th>\n",
              "      <th>Card Type_Visa</th>\n",
              "      <th>Authentication Method_OTP</th>\n",
              "      <th>Authentication Method_PIN</th>\n",
              "      <th>Authentication Method_Password</th>\n",
              "    </tr>\n",
              "  </thead>\n",
              "  <tbody>\n",
              "    <tr>\n",
              "      <th>0</th>\n",
              "      <td>39.79</td>\n",
              "      <td>93213.17</td>\n",
              "      <td>0</td>\n",
              "      <td>0</td>\n",
              "      <td>7</td>\n",
              "      <td>437.63</td>\n",
              "      <td>65</td>\n",
              "      <td>883.17</td>\n",
              "      <td>0</td>\n",
              "      <td>0</td>\n",
              "      <td>...</td>\n",
              "      <td>False</td>\n",
              "      <td>False</td>\n",
              "      <td>False</td>\n",
              "      <td>True</td>\n",
              "      <td>False</td>\n",
              "      <td>False</td>\n",
              "      <td>False</td>\n",
              "      <td>False</td>\n",
              "      <td>False</td>\n",
              "      <td>False</td>\n",
              "    </tr>\n",
              "    <tr>\n",
              "      <th>1</th>\n",
              "      <td>1.19</td>\n",
              "      <td>75725.25</td>\n",
              "      <td>0</td>\n",
              "      <td>0</td>\n",
              "      <td>13</td>\n",
              "      <td>478.76</td>\n",
              "      <td>186</td>\n",
              "      <td>2203.36</td>\n",
              "      <td>0</td>\n",
              "      <td>1</td>\n",
              "      <td>...</td>\n",
              "      <td>False</td>\n",
              "      <td>False</td>\n",
              "      <td>False</td>\n",
              "      <td>False</td>\n",
              "      <td>False</td>\n",
              "      <td>True</td>\n",
              "      <td>False</td>\n",
              "      <td>False</td>\n",
              "      <td>False</td>\n",
              "      <td>True</td>\n",
              "    </tr>\n",
              "    <tr>\n",
              "      <th>2</th>\n",
              "      <td>28.96</td>\n",
              "      <td>1588.96</td>\n",
              "      <td>0</td>\n",
              "      <td>0</td>\n",
              "      <td>14</td>\n",
              "      <td>50.01</td>\n",
              "      <td>226</td>\n",
              "      <td>1909.29</td>\n",
              "      <td>0</td>\n",
              "      <td>1</td>\n",
              "      <td>...</td>\n",
              "      <td>False</td>\n",
              "      <td>False</td>\n",
              "      <td>True</td>\n",
              "      <td>False</td>\n",
              "      <td>False</td>\n",
              "      <td>False</td>\n",
              "      <td>True</td>\n",
              "      <td>False</td>\n",
              "      <td>False</td>\n",
              "      <td>False</td>\n",
              "    </tr>\n",
              "    <tr>\n",
              "      <th>3</th>\n",
              "      <td>254.32</td>\n",
              "      <td>76807.20</td>\n",
              "      <td>0</td>\n",
              "      <td>0</td>\n",
              "      <td>8</td>\n",
              "      <td>182.48</td>\n",
              "      <td>76</td>\n",
              "      <td>1311.86</td>\n",
              "      <td>0</td>\n",
              "      <td>1</td>\n",
              "      <td>...</td>\n",
              "      <td>False</td>\n",
              "      <td>False</td>\n",
              "      <td>False</td>\n",
              "      <td>False</td>\n",
              "      <td>False</td>\n",
              "      <td>False</td>\n",
              "      <td>True</td>\n",
              "      <td>True</td>\n",
              "      <td>False</td>\n",
              "      <td>False</td>\n",
              "    </tr>\n",
              "    <tr>\n",
              "      <th>4</th>\n",
              "      <td>31.28</td>\n",
              "      <td>92354.66</td>\n",
              "      <td>0</td>\n",
              "      <td>1</td>\n",
              "      <td>14</td>\n",
              "      <td>328.69</td>\n",
              "      <td>140</td>\n",
              "      <td>966.98</td>\n",
              "      <td>1</td>\n",
              "      <td>1</td>\n",
              "      <td>...</td>\n",
              "      <td>True</td>\n",
              "      <td>False</td>\n",
              "      <td>False</td>\n",
              "      <td>False</td>\n",
              "      <td>False</td>\n",
              "      <td>True</td>\n",
              "      <td>False</td>\n",
              "      <td>False</td>\n",
              "      <td>False</td>\n",
              "      <td>True</td>\n",
              "    </tr>\n",
              "  </tbody>\n",
              "</table>\n",
              "<p>5 rows × 29 columns</p>\n",
              "</div>\n",
              "    <div class=\"colab-df-buttons\">\n",
              "\n",
              "  <div class=\"colab-df-container\">\n",
              "    <button class=\"colab-df-convert\" onclick=\"convertToInteractive('df-65d74d81-f494-458a-9210-147fec6a7fda')\"\n",
              "            title=\"Convert this dataframe to an interactive table.\"\n",
              "            style=\"display:none;\">\n",
              "\n",
              "  <svg xmlns=\"http://www.w3.org/2000/svg\" height=\"24px\" viewBox=\"0 -960 960 960\">\n",
              "    <path d=\"M120-120v-720h720v720H120Zm60-500h600v-160H180v160Zm220 220h160v-160H400v160Zm0 220h160v-160H400v160ZM180-400h160v-160H180v160Zm440 0h160v-160H620v160ZM180-180h160v-160H180v160Zm440 0h160v-160H620v160Z\"/>\n",
              "  </svg>\n",
              "    </button>\n",
              "\n",
              "  <style>\n",
              "    .colab-df-container {\n",
              "      display:flex;\n",
              "      gap: 12px;\n",
              "    }\n",
              "\n",
              "    .colab-df-convert {\n",
              "      background-color: #E8F0FE;\n",
              "      border: none;\n",
              "      border-radius: 50%;\n",
              "      cursor: pointer;\n",
              "      display: none;\n",
              "      fill: #1967D2;\n",
              "      height: 32px;\n",
              "      padding: 0 0 0 0;\n",
              "      width: 32px;\n",
              "    }\n",
              "\n",
              "    .colab-df-convert:hover {\n",
              "      background-color: #E2EBFA;\n",
              "      box-shadow: 0px 1px 2px rgba(60, 64, 67, 0.3), 0px 1px 3px 1px rgba(60, 64, 67, 0.15);\n",
              "      fill: #174EA6;\n",
              "    }\n",
              "\n",
              "    .colab-df-buttons div {\n",
              "      margin-bottom: 4px;\n",
              "    }\n",
              "\n",
              "    [theme=dark] .colab-df-convert {\n",
              "      background-color: #3B4455;\n",
              "      fill: #D2E3FC;\n",
              "    }\n",
              "\n",
              "    [theme=dark] .colab-df-convert:hover {\n",
              "      background-color: #434B5C;\n",
              "      box-shadow: 0px 1px 3px 1px rgba(0, 0, 0, 0.15);\n",
              "      filter: drop-shadow(0px 1px 2px rgba(0, 0, 0, 0.3));\n",
              "      fill: #FFFFFF;\n",
              "    }\n",
              "  </style>\n",
              "\n",
              "    <script>\n",
              "      const buttonEl =\n",
              "        document.querySelector('#df-65d74d81-f494-458a-9210-147fec6a7fda button.colab-df-convert');\n",
              "      buttonEl.style.display =\n",
              "        google.colab.kernel.accessAllowed ? 'block' : 'none';\n",
              "\n",
              "      async function convertToInteractive(key) {\n",
              "        const element = document.querySelector('#df-65d74d81-f494-458a-9210-147fec6a7fda');\n",
              "        const dataTable =\n",
              "          await google.colab.kernel.invokeFunction('convertToInteractive',\n",
              "                                                    [key], {});\n",
              "        if (!dataTable) return;\n",
              "\n",
              "        const docLinkHtml = 'Like what you see? Visit the ' +\n",
              "          '<a target=\"_blank\" href=https://colab.research.google.com/notebooks/data_table.ipynb>data table notebook</a>'\n",
              "          + ' to learn more about interactive tables.';\n",
              "        element.innerHTML = '';\n",
              "        dataTable['output_type'] = 'display_data';\n",
              "        await google.colab.output.renderOutput(dataTable, element);\n",
              "        const docLink = document.createElement('div');\n",
              "        docLink.innerHTML = docLinkHtml;\n",
              "        element.appendChild(docLink);\n",
              "      }\n",
              "    </script>\n",
              "  </div>\n",
              "\n",
              "\n",
              "    <div id=\"df-3caa2662-6bc4-48c5-9fdc-04e8e7d88a9e\">\n",
              "      <button class=\"colab-df-quickchart\" onclick=\"quickchart('df-3caa2662-6bc4-48c5-9fdc-04e8e7d88a9e')\"\n",
              "                title=\"Suggest charts\"\n",
              "                style=\"display:none;\">\n",
              "\n",
              "<svg xmlns=\"http://www.w3.org/2000/svg\" height=\"24px\"viewBox=\"0 0 24 24\"\n",
              "     width=\"24px\">\n",
              "    <g>\n",
              "        <path d=\"M19 3H5c-1.1 0-2 .9-2 2v14c0 1.1.9 2 2 2h14c1.1 0 2-.9 2-2V5c0-1.1-.9-2-2-2zM9 17H7v-7h2v7zm4 0h-2V7h2v10zm4 0h-2v-4h2v4z\"/>\n",
              "    </g>\n",
              "</svg>\n",
              "      </button>\n",
              "\n",
              "<style>\n",
              "  .colab-df-quickchart {\n",
              "      --bg-color: #E8F0FE;\n",
              "      --fill-color: #1967D2;\n",
              "      --hover-bg-color: #E2EBFA;\n",
              "      --hover-fill-color: #174EA6;\n",
              "      --disabled-fill-color: #AAA;\n",
              "      --disabled-bg-color: #DDD;\n",
              "  }\n",
              "\n",
              "  [theme=dark] .colab-df-quickchart {\n",
              "      --bg-color: #3B4455;\n",
              "      --fill-color: #D2E3FC;\n",
              "      --hover-bg-color: #434B5C;\n",
              "      --hover-fill-color: #FFFFFF;\n",
              "      --disabled-bg-color: #3B4455;\n",
              "      --disabled-fill-color: #666;\n",
              "  }\n",
              "\n",
              "  .colab-df-quickchart {\n",
              "    background-color: var(--bg-color);\n",
              "    border: none;\n",
              "    border-radius: 50%;\n",
              "    cursor: pointer;\n",
              "    display: none;\n",
              "    fill: var(--fill-color);\n",
              "    height: 32px;\n",
              "    padding: 0;\n",
              "    width: 32px;\n",
              "  }\n",
              "\n",
              "  .colab-df-quickchart:hover {\n",
              "    background-color: var(--hover-bg-color);\n",
              "    box-shadow: 0 1px 2px rgba(60, 64, 67, 0.3), 0 1px 3px 1px rgba(60, 64, 67, 0.15);\n",
              "    fill: var(--button-hover-fill-color);\n",
              "  }\n",
              "\n",
              "  .colab-df-quickchart-complete:disabled,\n",
              "  .colab-df-quickchart-complete:disabled:hover {\n",
              "    background-color: var(--disabled-bg-color);\n",
              "    fill: var(--disabled-fill-color);\n",
              "    box-shadow: none;\n",
              "  }\n",
              "\n",
              "  .colab-df-spinner {\n",
              "    border: 2px solid var(--fill-color);\n",
              "    border-color: transparent;\n",
              "    border-bottom-color: var(--fill-color);\n",
              "    animation:\n",
              "      spin 1s steps(1) infinite;\n",
              "  }\n",
              "\n",
              "  @keyframes spin {\n",
              "    0% {\n",
              "      border-color: transparent;\n",
              "      border-bottom-color: var(--fill-color);\n",
              "      border-left-color: var(--fill-color);\n",
              "    }\n",
              "    20% {\n",
              "      border-color: transparent;\n",
              "      border-left-color: var(--fill-color);\n",
              "      border-top-color: var(--fill-color);\n",
              "    }\n",
              "    30% {\n",
              "      border-color: transparent;\n",
              "      border-left-color: var(--fill-color);\n",
              "      border-top-color: var(--fill-color);\n",
              "      border-right-color: var(--fill-color);\n",
              "    }\n",
              "    40% {\n",
              "      border-color: transparent;\n",
              "      border-right-color: var(--fill-color);\n",
              "      border-top-color: var(--fill-color);\n",
              "    }\n",
              "    60% {\n",
              "      border-color: transparent;\n",
              "      border-right-color: var(--fill-color);\n",
              "    }\n",
              "    80% {\n",
              "      border-color: transparent;\n",
              "      border-right-color: var(--fill-color);\n",
              "      border-bottom-color: var(--fill-color);\n",
              "    }\n",
              "    90% {\n",
              "      border-color: transparent;\n",
              "      border-bottom-color: var(--fill-color);\n",
              "    }\n",
              "  }\n",
              "</style>\n",
              "\n",
              "      <script>\n",
              "        async function quickchart(key) {\n",
              "          const quickchartButtonEl =\n",
              "            document.querySelector('#' + key + ' button');\n",
              "          quickchartButtonEl.disabled = true;  // To prevent multiple clicks.\n",
              "          quickchartButtonEl.classList.add('colab-df-spinner');\n",
              "          try {\n",
              "            const charts = await google.colab.kernel.invokeFunction(\n",
              "                'suggestCharts', [key], {});\n",
              "          } catch (error) {\n",
              "            console.error('Error during call to suggestCharts:', error);\n",
              "          }\n",
              "          quickchartButtonEl.classList.remove('colab-df-spinner');\n",
              "          quickchartButtonEl.classList.add('colab-df-quickchart-complete');\n",
              "        }\n",
              "        (() => {\n",
              "          let quickchartButtonEl =\n",
              "            document.querySelector('#df-3caa2662-6bc4-48c5-9fdc-04e8e7d88a9e button');\n",
              "          quickchartButtonEl.style.display =\n",
              "            google.colab.kernel.accessAllowed ? 'block' : 'none';\n",
              "        })();\n",
              "      </script>\n",
              "    </div>\n",
              "\n",
              "    </div>\n",
              "  </div>\n"
            ],
            "application/vnd.google.colaboratory.intrinsic+json": {
              "type": "dataframe",
              "variable_name": "features"
            }
          },
          "metadata": {},
          "execution_count": 51
        }
      ]
    },
    {
      "cell_type": "markdown",
      "source": [
        "Split the data"
      ],
      "metadata": {
        "id": "6_izWTZSmOE3"
      }
    },
    {
      "cell_type": "code",
      "source": [
        "X_train, X_test, y_train, y_test = model_selection.train_test_split(features, label, test_size = 0.2, random_state = 42)"
      ],
      "metadata": {
        "id": "D0t75aTTl7q6"
      },
      "execution_count": 52,
      "outputs": []
    },
    {
      "cell_type": "markdown",
      "source": [
        "Start KNN model"
      ],
      "metadata": {
        "id": "Xz3fSLHnmR-R"
      }
    },
    {
      "cell_type": "code",
      "source": [
        "model = KNeighborsClassifier(n_neighbors = 5)"
      ],
      "metadata": {
        "id": "ZXBPHZWSmTM3"
      },
      "execution_count": 53,
      "outputs": []
    },
    {
      "cell_type": "markdown",
      "source": [
        "Fit model and make predictions"
      ],
      "metadata": {
        "id": "19K06_ZCmUAA"
      }
    },
    {
      "cell_type": "code",
      "source": [
        "model.fit(X_train, y_train)\n",
        "pred = model.predict(X_test)"
      ],
      "metadata": {
        "id": "YTJSzDJsmZcD"
      },
      "execution_count": 54,
      "outputs": []
    },
    {
      "cell_type": "markdown",
      "source": [
        "Create a visualization"
      ],
      "metadata": {
        "id": "v-tn9MSUnLtD"
      }
    },
    {
      "cell_type": "markdown",
      "source": [
        "Decision boundaries are impossible without creating 29 dimensional spaces.\n"
      ],
      "metadata": {
        "id": "ihs8rd40oayO"
      }
    },
    {
      "cell_type": "markdown",
      "source": [
        "## Confusion matrix, Accuracy score, and F1 score"
      ],
      "metadata": {
        "id": "Fakt4edjqKw1"
      }
    },
    {
      "cell_type": "code",
      "source": [
        "metrics.ConfusionMatrixDisplay.from_predictions(y_test, pred, display_labels=['Actual No Fraud', 'Actual Fraud'])"
      ],
      "metadata": {
        "colab": {
          "base_uri": "https://localhost:8080/",
          "height": 466
        },
        "id": "R4pIpaQ5p34d",
        "outputId": "7abbc939-b7a6-4bff-bcdd-45620febbcc2"
      },
      "execution_count": 55,
      "outputs": [
        {
          "output_type": "execute_result",
          "data": {
            "text/plain": [
              "<sklearn.metrics._plot.confusion_matrix.ConfusionMatrixDisplay at 0x78eae4df4d90>"
            ]
          },
          "metadata": {},
          "execution_count": 55
        },
        {
          "output_type": "display_data",
          "data": {
            "text/plain": [
              "<Figure size 640x480 with 2 Axes>"
            ],
            "image/png": "[encoded data removed]"
          },
          "metadata": {}
        }
      ]
    },
    {
      "cell_type": "code",
      "source": [
        "print(\"Accuracy Score: \", metrics.accuracy_score(y_test, pred))"
      ],
      "metadata": {
        "colab": {
          "base_uri": "https://localhost:8080/"
        },
        "id": "pXw3UF1Vp8kW",
        "outputId": "eb246b01-800e-40d5-aff2-72e66ec20f1a"
      },
      "execution_count": 56,
      "outputs": [
        {
          "output_type": "stream",
          "name": "stdout",
          "text": [
            "Accuracy Score:  0.6059\n"
          ]
        }
      ]
    },
    {
      "cell_type": "code",
      "source": [
        "f1 = metrics.f1_score(y_test, pred)\n",
        "\n",
        "print(f\"F1 Score: {f1}\")"
      ],
      "metadata": {
        "colab": {
          "base_uri": "https://localhost:8080/"
        },
        "id": "-PLLEeR2p9Qb",
        "outputId": "ed192d0b-7800-4e47-a9ee-08fe6736172a"
      },
      "execution_count": 57,
      "outputs": [
        {
          "output_type": "stream",
          "name": "stdout",
          "text": [
            "F1 Score: 0.23697967086156824\n"
          ]
        }
      ]
    },
    {
      "cell_type": "markdown",
      "source": [
        "## K fold cross validation"
      ],
      "metadata": {
        "id": "HKGlRW2HqCfy"
      }
    },
    {
      "cell_type": "code",
      "source": [
        "knn_5 = KNeighborsClassifier(n_neighbors = 5)\n",
        "\n",
        "scores_5 = model_selection.cross_val_score(knn_5, X_train, y_train, cv = 10)\n",
        "print(\"10-Folds CV Scores: \" + str(scores_5.mean()) + \" +/- \" + str(scores_5.std()))"
      ],
      "metadata": {
        "colab": {
          "base_uri": "https://localhost:8080/"
        },
        "id": "Pkt9LKjWqGmi",
        "outputId": "b6752f19-a382-4057-8431-ae86778de751"
      },
      "execution_count": 58,
      "outputs": [
        {
          "output_type": "stream",
          "name": "stdout",
          "text": [
            "10-Folds CV Scores: 0.6152 +/- 0.010046641229784211\n"
          ]
        }
      ]
    },
    {
      "cell_type": "code",
      "source": [
        "plt.plot(scores_5, label = '5NN')\n",
        "plt.plot([scores_5.mean() for i in range(10)], label = 'average')\n",
        "\n",
        "plt.xlabel('Fold')\n",
        "plt.ylabel('Accuracy')\n",
        "plt.legend()\n",
        "\n",
        "plt.show()"
      ],
      "metadata": {
        "colab": {
          "base_uri": "https://localhost:8080/",
          "height": 449
        },
        "id": "OGbvfkaTqWZX",
        "outputId": "f0941344-16fe-4048-d271-6484f6e72a17"
      },
      "execution_count": 59,
      "outputs": [
        {
          "output_type": "display_data",
          "data": {
            "text/plain": [
              "<Figure size 640x480 with 1 Axes>"
            ],
            "image/png": "[encoded data removed]"
          },
          "metadata": {}
        }
      ]
    },
    {
      "cell_type": "markdown",
      "source": [
        "# Conclusion from KNN\n",
        "Using the two best features, the machine learning model was able to make predictions about this synthetic dataset that were 100% correct according to the Confusion Matrix, accuracy score, and F1 score."
      ],
      "metadata": {
        "id": "aWQAjkMFOLvV"
      }
    },
    {
      "cell_type": "markdown",
      "metadata": {
        "id": "3673d988"
      },
      "source": [
        "# PCA (done with the help of AI)\n",
        "PCA did not lead to better performance!!!\n",
        "\n",
        "Perform PCA on the dataset and train a KNN model using the PCA-transformed features. Evaluate the model's performance and compare it to the performance of a KNN model trained without PCA."
      ]
    },
    {
      "cell_type": "markdown",
      "metadata": {
        "id": "f3ff2111"
      },
      "source": [
        "## Select features for pca\n",
        "\n",
        "### Subtask:\n",
        "Choose the numerical features from the dataset to apply PCA on.\n"
      ]
    },
    {
      "cell_type": "markdown",
      "metadata": {
        "id": "7a22a7e5"
      },
      "source": [
        "**Reasoning**:\n",
        "Select numerical features excluding the target variable for PCA.\n",
        "\n"
      ]
    },
    {
      "cell_type": "code",
      "metadata": {
        "colab": {
          "base_uri": "https://localhost:8080/"
        },
        "id": "66d5f958",
        "outputId": "215e0795-2f6f-4608-cbe0-28706b1a6122"
      },
      "source": [
        "features_for_pca = fraud_encoded.select_dtypes(include=np.number).drop('Fraud Label', axis=1)\n",
        "print(features_for_pca.head())"
      ],
      "execution_count": 60,
      "outputs": [
        {
          "output_type": "stream",
          "name": "stdout",
          "text": [
            "   Transaction Amount  Account Balance  IP Address Flag  \\\n",
            "0               39.79         93213.17                0   \n",
            "1                1.19         75725.25                0   \n",
            "2               28.96          1588.96                0   \n",
            "3              254.32         76807.20                0   \n",
            "4               31.28         92354.66                0   \n",
            "\n",
            "   Previous Fraudulent Activity  Daily Transaction Count  \\\n",
            "0                             0                        7   \n",
            "1                             0                       13   \n",
            "2                             0                       14   \n",
            "3                             0                        8   \n",
            "4                             1                       14   \n",
            "\n",
            "   Avg Transaction Amount 7d  Failed Transaction Count 7d  Card Age  \\\n",
            "0                     437.63                            3        65   \n",
            "1                     478.76                            4       186   \n",
            "2                      50.01                            4       226   \n",
            "3                     182.48                            4        76   \n",
            "4                     328.69                            4       140   \n",
            "\n",
            "   Transaction Distance  Risk Score  Is Weekend  \n",
            "0                883.17      0.8494           0  \n",
            "1               2203.36      0.0959           0  \n",
            "2               1909.29      0.8400           0  \n",
            "3               1311.86      0.7935           0  \n",
            "4                966.98      0.3819           1  \n"
          ]
        }
      ]
    },
    {
      "cell_type": "markdown",
      "metadata": {
        "id": "1da6842f"
      },
      "source": [
        "## Apply pca\n",
        "\n",
        "### Subtask:\n",
        "Apply PCA to the selected features and determine the number of components to keep.\n"
      ]
    },
    {
      "cell_type": "markdown",
      "metadata": {
        "id": "d5ede44f"
      },
      "source": [
        "**Reasoning**:\n",
        "Standardize the features and apply PCA to determine the number of components to keep.\n",
        "\n"
      ]
    },
    {
      "cell_type": "code",
      "metadata": {
        "colab": {
          "base_uri": "https://localhost:8080/",
          "height": 564
        },
        "id": "7f1c8c8f",
        "outputId": "c5bfdb1e-53f4-49f3-e58a-2b1fe48781a4"
      },
      "source": [
        "from sklearn.preprocessing import StandardScaler\n",
        "from sklearn.decomposition import PCA\n",
        "\n",
        "# Standardize the features\n",
        "scaler = StandardScaler()\n",
        "scaled_features = scaler.fit_transform(features_for_pca)\n",
        "\n",
        "# Apply PCA\n",
        "pca = PCA()\n",
        "pca.fit(scaled_features)\n",
        "\n",
        "# Calculate cumulative explained variance\n",
        "cumulative_explained_variance = np.cumsum(pca.explained_variance_ratio_)\n",
        "\n",
        "# Plot cumulative explained variance\n",
        "plt.figure(figsize=(10, 6))\n",
        "plt.plot(range(1, len(cumulative_explained_variance) + 1), cumulative_explained_variance, marker='o', linestyle='--')\n",
        "plt.title('Cumulative Explained Variance by Number of Components')\n",
        "plt.xlabel('Number of Components')\n",
        "plt.ylabel('Cumulative Explained Variance Ratio')\n",
        "plt.grid(True)\n",
        "plt.axhline(y=0.95, color='r', linestyle='-', label='95% Variance Explained')\n",
        "plt.legend()\n",
        "plt.show()"
      ],
      "execution_count": 61,
      "outputs": [
        {
          "output_type": "display_data",
          "data": {
            "text/plain": [
              "<Figure size 1000x600 with 1 Axes>"
            ],
            "image/png": "[encoded data removed]"
          },
          "metadata": {}
        }
      ]
    },
    {
      "cell_type": "markdown",
      "metadata": {
        "id": "fe2e4f88"
      },
      "source": [
        "## Split the data\n",
        "\n",
        "### Subtask:\n",
        "Split the PCA-transformed features and the target variable into training and testing sets.\n"
      ]
    },
    {
      "cell_type": "markdown",
      "metadata": {
        "id": "6f977f16"
      },
      "source": [
        "**Reasoning**:\n",
        "Select the number of components that explain 95% variance and split the scaled features and label into training and testing sets.\n",
        "\n"
      ]
    },
    {
      "cell_type": "code",
      "metadata": {
        "colab": {
          "base_uri": "https://localhost:8080/"
        },
        "id": "ce317942",
        "outputId": "2f1040c7-18fa-4b3d-cef8-462fc60e8141"
      },
      "source": [
        "# Select the number of components that explain 95% variance\n",
        "n_components = np.argmax(cumulative_explained_variance >= 0.95) + 1\n",
        "print(f\"Number of components explaining 95% variance: {n_components}\")\n",
        "\n",
        "# Apply PCA with the selected number of components\n",
        "pca = PCA(n_components=n_components)\n",
        "pca_features = pca.fit_transform(scaled_features)\n",
        "\n",
        "# Split the PCA-transformed features and the target variable\n",
        "X_train_pca, X_test_pca, y_train_pca, y_test_pca = model_selection.train_test_split(pca_features, label, test_size=0.2, random_state=42)\n",
        "\n",
        "print(\"Shape of X_train_pca:\", X_train_pca.shape)\n",
        "print(\"Shape of X_test_pca:\", X_test_pca.shape)\n",
        "print(\"Shape of y_train_pca:\", y_train_pca.shape)\n",
        "print(\"Shape of y_test_pca:\", y_test_pca.shape)"
      ],
      "execution_count": 62,
      "outputs": [
        {
          "output_type": "stream",
          "name": "stdout",
          "text": [
            "Number of components explaining 95% variance: 11\n",
            "Shape of X_train_pca: (40000, 11)\n",
            "Shape of X_test_pca: (10000, 11)\n",
            "Shape of y_train_pca: (40000,)\n",
            "Shape of y_test_pca: (10000,)\n"
          ]
        }
      ]
    },
    {
      "cell_type": "markdown",
      "metadata": {
        "id": "031aea7e"
      },
      "source": [
        "## Train knn model with pca features\n",
        "\n",
        "### Subtask:\n",
        "Train the KNeighborsClassifier model using the PCA-transformed training data.\n"
      ]
    },
    {
      "cell_type": "markdown",
      "metadata": {
        "id": "5f9e4930"
      },
      "source": [
        "**Reasoning**:\n",
        "Instantiate and fit the KNeighborsClassifier model to the PCA-transformed training data.\n",
        "\n"
      ]
    },
    {
      "cell_type": "code",
      "metadata": {
        "colab": {
          "base_uri": "https://localhost:8080/",
          "height": 80
        },
        "id": "a5ee2844",
        "outputId": "138c870c-ed21-40c2-8e71-4790f15e197e"
      },
      "source": [
        "model_pca = KNeighborsClassifier(n_neighbors=5)\n",
        "model_pca.fit(X_train_pca, y_train_pca)"
      ],
      "execution_count": 63,
      "outputs": [
        {
          "output_type": "execute_result",
          "data": {
            "text/plain": [
              "KNeighborsClassifier()"
            ],
            "text/html": [
              "<style>#sk-container-id-1 {\n",
              "  /* Definition of color scheme common for light and dark mode */\n",
              "  --sklearn-color-text: #000;\n",
              "  --sklearn-color-text-muted: #666;\n",
              "  --sklearn-color-line: gray;\n",
              "  /* Definition of color scheme for unfitted estimators */\n",
              "  --sklearn-color-unfitted-level-0: #fff5e6;\n",
              "  --sklearn-color-unfitted-level-1: #f6e4d2;\n",
              "  --sklearn-color-unfitted-level-2: #ffe0b3;\n",
              "  --sklearn-color-unfitted-level-3: chocolate;\n",
              "  /* Definition of color scheme for fitted estimators */\n",
              "  --sklearn-color-fitted-level-0: #f0f8ff;\n",
              "  --sklearn-color-fitted-level-1: #d4ebff;\n",
              "  --sklearn-color-fitted-level-2: #b3dbfd;\n",
              "  --sklearn-color-fitted-level-3: cornflowerblue;\n",
              "\n",
              "  /* Specific color for light theme */\n",
              "  --sklearn-color-text-on-default-background: var(--sg-text-color, var(--theme-code-foreground, var(--jp-content-font-color1, black)));\n",
              "  --sklearn-color-background: var(--sg-background-color, var(--theme-background, var(--jp-layout-color0, white)));\n",
              "  --sklearn-color-border-box: var(--sg-text-color, var(--theme-code-foreground, var(--jp-content-font-color1, black)));\n",
              "  --sklearn-color-icon: #696969;\n",
              "\n",
              "  @media (prefers-color-scheme: dark) {\n",
              "    /* Redefinition of color scheme for dark theme */\n",
              "    --sklearn-color-text-on-default-background: var(--sg-text-color, var(--theme-code-foreground, var(--jp-content-font-color1, white)));\n",
              "    --sklearn-color-background: var(--sg-background-color, var(--theme-background, var(--jp-layout-color0, #111)));\n",
              "    --sklearn-color-border-box: var(--sg-text-color, var(--theme-code-foreground, var(--jp-content-font-color1, white)));\n",
              "    --sklearn-color-icon: #878787;\n",
              "  }\n",
              "}\n",
              "\n",
              "#sk-container-id-1 {\n",
              "  color: var(--sklearn-color-text);\n",
              "}\n",
              "\n",
              "#sk-container-id-1 pre {\n",
              "  padding: 0;\n",
              "}\n",
              "\n",
              "#sk-container-id-1 input.sk-hidden--visually {\n",
              "  border: 0;\n",
              "  clip: rect(1px 1px 1px 1px);\n",
              "  clip: rect(1px, 1px, 1px, 1px);\n",
              "  height: 1px;\n",
              "  margin: -1px;\n",
              "  overflow: hidden;\n",
              "  padding: 0;\n",
              "  position: absolute;\n",
              "  width: 1px;\n",
              "}\n",
              "\n",
              "#sk-container-id-1 div.sk-dashed-wrapped {\n",
              "  border: 1px dashed var(--sklearn-color-line);\n",
              "  margin: 0 0.4em 0.5em 0.4em;\n",
              "  box-sizing: border-box;\n",
              "  padding-bottom: 0.4em;\n",
              "  background-color: var(--sklearn-color-background);\n",
              "}\n",
              "\n",
              "#sk-container-id-1 div.sk-container {\n",
              "  /* jupyter's `normalize.less` sets `[hidden] { display: none; }`\n",
              "     but bootstrap.min.css set `[hidden] { display: none !important; }`\n",
              "     so we also need the `!important` here to be able to override the\n",
              "     default hidden behavior on the sphinx rendered scikit-learn.org.\n",
              "     See: https://github.com/scikit-learn/scikit-learn/issues/21755 */\n",
              "  display: inline-block !important;\n",
              "  position: relative;\n",
              "}\n",
              "\n",
              "#sk-container-id-1 div.sk-text-repr-fallback {\n",
              "  display: none;\n",
              "}\n",
              "\n",
              "div.sk-parallel-item,\n",
              "div.sk-serial,\n",
              "div.sk-item {\n",
              "  /* draw centered vertical line to link estimators */\n",
              "  background-image: linear-gradient(var(--sklearn-color-text-on-default-background), var(--sklearn-color-text-on-default-background));\n",
              "  background-size: 2px 100%;\n",
              "  background-repeat: no-repeat;\n",
              "  background-position: center center;\n",
              "}\n",
              "\n",
              "/* Parallel-specific style estimator block */\n",
              "\n",
              "#sk-container-id-1 div.sk-parallel-item::after {\n",
              "  content: \"\";\n",
              "  width: 100%;\n",
              "  border-bottom: 2px solid var(--sklearn-color-text-on-default-background);\n",
              "  flex-grow: 1;\n",
              "}\n",
              "\n",
              "#sk-container-id-1 div.sk-parallel {\n",
              "  display: flex;\n",
              "  align-items: stretch;\n",
              "  justify-content: center;\n",
              "  background-color: var(--sklearn-color-background);\n",
              "  position: relative;\n",
              "}\n",
              "\n",
              "#sk-container-id-1 div.sk-parallel-item {\n",
              "  display: flex;\n",
              "  flex-direction: column;\n",
              "}\n",
              "\n",
              "#sk-container-id-1 div.sk-parallel-item:first-child::after {\n",
              "  align-self: flex-end;\n",
              "  width: 50%;\n",
              "}\n",
              "\n",
              "#sk-container-id-1 div.sk-parallel-item:last-child::after {\n",
              "  align-self: flex-start;\n",
              "  width: 50%;\n",
              "}\n",
              "\n",
              "#sk-container-id-1 div.sk-parallel-item:only-child::after {\n",
              "  width: 0;\n",
              "}\n",
              "\n",
              "/* Serial-specific style estimator block */\n",
              "\n",
              "#sk-container-id-1 div.sk-serial {\n",
              "  display: flex;\n",
              "  flex-direction: column;\n",
              "  align-items: center;\n",
              "  background-color: var(--sklearn-color-background);\n",
              "  padding-right: 1em;\n",
              "  padding-left: 1em;\n",
              "}\n",
              "\n",
              "\n",
              "/* Toggleable style: style used for estimator/Pipeline/ColumnTransformer box that is\n",
              "clickable and can be expanded/collapsed.\n",
              "- Pipeline and ColumnTransformer use this feature and define the default style\n",
              "- Estimators will overwrite some part of the style using the `sk-estimator` class\n",
              "*/\n",
              "\n",
              "/* Pipeline and ColumnTransformer style (default) */\n",
              "\n",
              "#sk-container-id-1 div.sk-toggleable {\n",
              "  /* Default theme specific background. It is overwritten whether we have a\n",
              "  specific estimator or a Pipeline/ColumnTransformer */\n",
              "  background-color: var(--sklearn-color-background);\n",
              "}\n",
              "\n",
              "/* Toggleable label */\n",
              "#sk-container-id-1 label.sk-toggleable__label {\n",
              "  cursor: pointer;\n",
              "  display: flex;\n",
              "  width: 100%;\n",
              "  margin-bottom: 0;\n",
              "  padding: 0.5em;\n",
              "  box-sizing: border-box;\n",
              "  text-align: center;\n",
              "  align-items: start;\n",
              "  justify-content: space-between;\n",
              "  gap: 0.5em;\n",
              "}\n",
              "\n",
              "#sk-container-id-1 label.sk-toggleable__label .caption {\n",
              "  font-size: 0.6rem;\n",
              "  font-weight: lighter;\n",
              "  color: var(--sklearn-color-text-muted);\n",
              "}\n",
              "\n",
              "#sk-container-id-1 label.sk-toggleable__label-arrow:before {\n",
              "  /* Arrow on the left of the label */\n",
              "  content: \"▸\";\n",
              "  float: left;\n",
              "  margin-right: 0.25em;\n",
              "  color: var(--sklearn-color-icon);\n",
              "}\n",
              "\n",
              "#sk-container-id-1 label.sk-toggleable__label-arrow:hover:before {\n",
              "  color: var(--sklearn-color-text);\n",
              "}\n",
              "\n",
              "/* Toggleable content - dropdown */\n",
              "\n",
              "#sk-container-id-1 div.sk-toggleable__content {\n",
              "  max-height: 0;\n",
              "  max-width: 0;\n",
              "  overflow: hidden;\n",
              "  text-align: left;\n",
              "  /* unfitted */\n",
              "  background-color: var(--sklearn-color-unfitted-level-0);\n",
              "}\n",
              "\n",
              "#sk-container-id-1 div.sk-toggleable__content.fitted {\n",
              "  /* fitted */\n",
              "  background-color: var(--sklearn-color-fitted-level-0);\n",
              "}\n",
              "\n",
              "#sk-container-id-1 div.sk-toggleable__content pre {\n",
              "  margin: 0.2em;\n",
              "  border-radius: 0.25em;\n",
              "  color: var(--sklearn-color-text);\n",
              "  /* unfitted */\n",
              "  background-color: var(--sklearn-color-unfitted-level-0);\n",
              "}\n",
              "\n",
              "#sk-container-id-1 div.sk-toggleable__content.fitted pre {\n",
              "  /* unfitted */\n",
              "  background-color: var(--sklearn-color-fitted-level-0);\n",
              "}\n",
              "\n",
              "#sk-container-id-1 input.sk-toggleable__control:checked~div.sk-toggleable__content {\n",
              "  /* Expand drop-down */\n",
              "  max-height: 200px;\n",
              "  max-width: 100%;\n",
              "  overflow: auto;\n",
              "}\n",
              "\n",
              "#sk-container-id-1 input.sk-toggleable__control:checked~label.sk-toggleable__label-arrow:before {\n",
              "  content: \"▾\";\n",
              "}\n",
              "\n",
              "/* Pipeline/ColumnTransformer-specific style */\n",
              "\n",
              "#sk-container-id-1 div.sk-label input.sk-toggleable__control:checked~label.sk-toggleable__label {\n",
              "  color: var(--sklearn-color-text);\n",
              "  background-color: var(--sklearn-color-unfitted-level-2);\n",
              "}\n",
              "\n",
              "#sk-container-id-1 div.sk-label.fitted input.sk-toggleable__control:checked~label.sk-toggleable__label {\n",
              "  background-color: var(--sklearn-color-fitted-level-2);\n",
              "}\n",
              "\n",
              "/* Estimator-specific style */\n",
              "\n",
              "/* Colorize estimator box */\n",
              "#sk-container-id-1 div.sk-estimator input.sk-toggleable__control:checked~label.sk-toggleable__label {\n",
              "  /* unfitted */\n",
              "  background-color: var(--sklearn-color-unfitted-level-2);\n",
              "}\n",
              "\n",
              "#sk-container-id-1 div.sk-estimator.fitted input.sk-toggleable__control:checked~label.sk-toggleable__label {\n",
              "  /* fitted */\n",
              "  background-color: var(--sklearn-color-fitted-level-2);\n",
              "}\n",
              "\n",
              "#sk-container-id-1 div.sk-label label.sk-toggleable__label,\n",
              "#sk-container-id-1 div.sk-label label {\n",
              "  /* The background is the default theme color */\n",
              "  color: var(--sklearn-color-text-on-default-background);\n",
              "}\n",
              "\n",
              "/* On hover, darken the color of the background */\n",
              "#sk-container-id-1 div.sk-label:hover label.sk-toggleable__label {\n",
              "  color: var(--sklearn-color-text);\n",
              "  background-color: var(--sklearn-color-unfitted-level-2);\n",
              "}\n",
              "\n",
              "/* Label box, darken color on hover, fitted */\n",
              "#sk-container-id-1 div.sk-label.fitted:hover label.sk-toggleable__label.fitted {\n",
              "  color: var(--sklearn-color-text);\n",
              "  background-color: var(--sklearn-color-fitted-level-2);\n",
              "}\n",
              "\n",
              "/* Estimator label */\n",
              "\n",
              "#sk-container-id-1 div.sk-label label {\n",
              "  font-family: monospace;\n",
              "  font-weight: bold;\n",
              "  display: inline-block;\n",
              "  line-height: 1.2em;\n",
              "}\n",
              "\n",
              "#sk-container-id-1 div.sk-label-container {\n",
              "  text-align: center;\n",
              "}\n",
              "\n",
              "/* Estimator-specific */\n",
              "#sk-container-id-1 div.sk-estimator {\n",
              "  font-family: monospace;\n",
              "  border: 1px dotted var(--sklearn-color-border-box);\n",
              "  border-radius: 0.25em;\n",
              "  box-sizing: border-box;\n",
              "  margin-bottom: 0.5em;\n",
              "  /* unfitted */\n",
              "  background-color: var(--sklearn-color-unfitted-level-0);\n",
              "}\n",
              "\n",
              "#sk-container-id-1 div.sk-estimator.fitted {\n",
              "  /* fitted */\n",
              "  background-color: var(--sklearn-color-fitted-level-0);\n",
              "}\n",
              "\n",
              "/* on hover */\n",
              "#sk-container-id-1 div.sk-estimator:hover {\n",
              "  /* unfitted */\n",
              "  background-color: var(--sklearn-color-unfitted-level-2);\n",
              "}\n",
              "\n",
              "#sk-container-id-1 div.sk-estimator.fitted:hover {\n",
              "  /* fitted */\n",
              "  background-color: var(--sklearn-color-fitted-level-2);\n",
              "}\n",
              "\n",
              "/* Specification for estimator info (e.g. \"i\" and \"?\") */\n",
              "\n",
              "/* Common style for \"i\" and \"?\" */\n",
              "\n",
              ".sk-estimator-doc-link,\n",
              "a:link.sk-estimator-doc-link,\n",
              "a:visited.sk-estimator-doc-link {\n",
              "  float: right;\n",
              "  font-size: smaller;\n",
              "  line-height: 1em;\n",
              "  font-family: monospace;\n",
              "  background-color: var(--sklearn-color-background);\n",
              "  border-radius: 1em;\n",
              "  height: 1em;\n",
              "  width: 1em;\n",
              "  text-decoration: none !important;\n",
              "  margin-left: 0.5em;\n",
              "  text-align: center;\n",
              "  /* unfitted */\n",
              "  border: var(--sklearn-color-unfitted-level-1) 1pt solid;\n",
              "  color: var(--sklearn-color-unfitted-level-1);\n",
              "}\n",
              "\n",
              ".sk-estimator-doc-link.fitted,\n",
              "a:link.sk-estimator-doc-link.fitted,\n",
              "a:visited.sk-estimator-doc-link.fitted {\n",
              "  /* fitted */\n",
              "  border: var(--sklearn-color-fitted-level-1) 1pt solid;\n",
              "  color: var(--sklearn-color-fitted-level-1);\n",
              "}\n",
              "\n",
              "/* On hover */\n",
              "div.sk-estimator:hover .sk-estimator-doc-link:hover,\n",
              ".sk-estimator-doc-link:hover,\n",
              "div.sk-label-container:hover .sk-estimator-doc-link:hover,\n",
              ".sk-estimator-doc-link:hover {\n",
              "  /* unfitted */\n",
              "  background-color: var(--sklearn-color-unfitted-level-3);\n",
              "  color: var(--sklearn-color-background);\n",
              "  text-decoration: none;\n",
              "}\n",
              "\n",
              "div.sk-estimator.fitted:hover .sk-estimator-doc-link.fitted:hover,\n",
              ".sk-estimator-doc-link.fitted:hover,\n",
              "div.sk-label-container:hover .sk-estimator-doc-link.fitted:hover,\n",
              ".sk-estimator-doc-link.fitted:hover {\n",
              "  /* fitted */\n",
              "  background-color: var(--sklearn-color-fitted-level-3);\n",
              "  color: var(--sklearn-color-background);\n",
              "  text-decoration: none;\n",
              "}\n",
              "\n",
              "/* Span, style for the box shown on hovering the info icon */\n",
              ".sk-estimator-doc-link span {\n",
              "  display: none;\n",
              "  z-index: 9999;\n",
              "  position: relative;\n",
              "  font-weight: normal;\n",
              "  right: .2ex;\n",
              "  padding: .5ex;\n",
              "  margin: .5ex;\n",
              "  width: min-content;\n",
              "  min-width: 20ex;\n",
              "  max-width: 50ex;\n",
              "  color: var(--sklearn-color-text);\n",
              "  box-shadow: 2pt 2pt 4pt #999;\n",
              "  /* unfitted */\n",
              "  background: var(--sklearn-color-unfitted-level-0);\n",
              "  border: .5pt solid var(--sklearn-color-unfitted-level-3);\n",
              "}\n",
              "\n",
              ".sk-estimator-doc-link.fitted span {\n",
              "  /* fitted */\n",
              "  background: var(--sklearn-color-fitted-level-0);\n",
              "  border: var(--sklearn-color-fitted-level-3);\n",
              "}\n",
              "\n",
              ".sk-estimator-doc-link:hover span {\n",
              "  display: block;\n",
              "}\n",
              "\n",
              "/* \"?\"-specific style due to the `<a>` HTML tag */\n",
              "\n",
              "#sk-container-id-1 a.estimator_doc_link {\n",
              "  float: right;\n",
              "  font-size: 1rem;\n",
              "  line-height: 1em;\n",
              "  font-family: monospace;\n",
              "  background-color: var(--sklearn-color-background);\n",
              "  border-radius: 1rem;\n",
              "  height: 1rem;\n",
              "  width: 1rem;\n",
              "  text-decoration: none;\n",
              "  /* unfitted */\n",
              "  color: var(--sklearn-color-unfitted-level-1);\n",
              "  border: var(--sklearn-color-unfitted-level-1) 1pt solid;\n",
              "}\n",
              "\n",
              "#sk-container-id-1 a.estimator_doc_link.fitted {\n",
              "  /* fitted */\n",
              "  border: var(--sklearn-color-fitted-level-1) 1pt solid;\n",
              "  color: var(--sklearn-color-fitted-level-1);\n",
              "}\n",
              "\n",
              "/* On hover */\n",
              "#sk-container-id-1 a.estimator_doc_link:hover {\n",
              "  /* unfitted */\n",
              "  background-color: var(--sklearn-color-unfitted-level-3);\n",
              "  color: var(--sklearn-color-background);\n",
              "  text-decoration: none;\n",
              "}\n",
              "\n",
              "#sk-container-id-1 a.estimator_doc_link.fitted:hover {\n",
              "  /* fitted */\n",
              "  background-color: var(--sklearn-color-fitted-level-3);\n",
              "}\n",
              "</style><div id=\"sk-container-id-1\" class=\"sk-top-container\"><div class=\"sk-text-repr-fallback\"><pre>KNeighborsClassifier()</pre><b>In a Jupyter environment, please rerun this cell to show the HTML representation or trust the notebook. <br />On GitHub, the HTML representation is unable to render, please try loading this page with nbviewer.org.</b></div><div class=\"sk-container\" hidden><div class=\"sk-item\"><div class=\"sk-estimator fitted sk-toggleable\"><input class=\"sk-toggleable__control sk-hidden--visually\" id=\"sk-estimator-id-1\" type=\"checkbox\" checked><label for=\"sk-estimator-id-1\" class=\"sk-toggleable__label fitted sk-toggleable__label-arrow\"><div><div>KNeighborsClassifier</div></div><div><a class=\"sk-estimator-doc-link fitted\" rel=\"noreferrer\" target=\"_blank\" href=\"https://scikit-learn.org/1.6/modules/generated/sklearn.neighbors.KNeighborsClassifier.html\">?<span>Documentation for KNeighborsClassifier</span></a><span class=\"sk-estimator-doc-link fitted\">i<span>Fitted</span></span></div></label><div class=\"sk-toggleable__content fitted\"><pre>KNeighborsClassifier()</pre></div> </div></div></div></div>"
            ]
          },
          "metadata": {},
          "execution_count": 63
        }
      ]
    },
    {
      "cell_type": "markdown",
      "metadata": {
        "id": "7c3c72e5"
      },
      "source": [
        "## Evaluate the model\n",
        "\n",
        "### Subtask:\n",
        "Evaluate the performance of the KNN model trained with PCA features using appropriate metrics (e.g., accuracy, F1 score, confusion matrix).\n"
      ]
    },
    {
      "cell_type": "markdown",
      "metadata": {
        "id": "99cfdedd"
      },
      "source": [
        "**Reasoning**:\n",
        "Predict the labels for the PCA-transformed test data and evaluate the model's performance using accuracy, F1 score, and a confusion matrix.\n",
        "\n"
      ]
    },
    {
      "cell_type": "code",
      "metadata": {
        "colab": {
          "base_uri": "https://localhost:8080/",
          "height": 507
        },
        "id": "2e15681f",
        "outputId": "868f92f4-f5f7-4bda-8a07-fcc645dec034"
      },
      "source": [
        "pred_pca = model_pca.predict(X_test_pca)\n",
        "\n",
        "print(\"Accuracy Score (with PCA): \", metrics.accuracy_score(y_test_pca, pred_pca))\n",
        "f1_pca = metrics.f1_score(y_test_pca, pred_pca)\n",
        "print(f\"F1 Score (with PCA): {f1_pca}\")\n",
        "\n",
        "metrics.ConfusionMatrixDisplay.from_predictions(y_test_pca, pred_pca, display_labels=['Actual No Fraud', 'Actual Fraud'])\n",
        "plt.title('Confusion Matrix (KNN with PCA)')\n",
        "plt.show()"
      ],
      "execution_count": 64,
      "outputs": [
        {
          "output_type": "stream",
          "name": "stdout",
          "text": [
            "Accuracy Score (with PCA):  0.9246\n",
            "F1 Score (with PCA): 0.8799745304043298\n"
          ]
        },
        {
          "output_type": "display_data",
          "data": {
            "text/plain": [
              "<Figure size 640x480 with 2 Axes>"
            ],
            "image/png": "[encoded data removed]"
          },
          "metadata": {}
        }
      ]
    },
    {
      "cell_type": "markdown",
      "metadata": {
        "id": "19bcc438"
      },
      "source": [
        "## Compare results\n",
        "\n",
        "### Subtask:\n",
        "Compare the performance of the KNN model with and without PCA to assess the impact of PCA.\n"
      ]
    },
    {
      "cell_type": "markdown",
      "metadata": {
        "id": "fe0bfff4"
      },
      "source": [
        "**Reasoning**:\n",
        "Compare the accuracy scores, F1 scores, and confusion matrices of the two KNN models (with and without PCA) and summarize the impact of PCA.\n",
        "\n"
      ]
    },
    {
      "cell_type": "code",
      "metadata": {
        "colab": {
          "base_uri": "https://localhost:8080/"
        },
        "id": "63aeafd3",
        "outputId": "7bd341b0-03e4-4206-df71-f198f7057efe"
      },
      "source": [
        "print(\"--- Performance Comparison ---\")\n",
        "print(f\"Accuracy Score (without PCA): {metrics.accuracy_score(y_test, pred)}\")\n",
        "print(f\"Accuracy Score (with PCA): {metrics.accuracy_score(y_test_pca, pred_pca)}\")\n",
        "print(\"\\nInterpretation of Accuracy:\")\n",
        "print(\"Accuracy measures the overall correctness of the model. A higher accuracy indicates that the model makes correct predictions (both fraud and non-fraud) more often.\")\n",
        "\n",
        "print(f\"\\nF1 Score (without PCA): {f1}\")\n",
        "print(f\"F1 Score (with PCA): {f1_pca}\")\n",
        "print(\"\\nInterpretation of F1 Score:\")\n",
        "print(\"The F1 score is the harmonic mean of precision and recall. It's particularly useful in classification problems with imbalanced datasets (like fraud detection). A higher F1 score indicates a better balance between correctly identifying positive cases (fraud) and not incorrectly labeling negative cases as positive.\")\n",
        "\n",
        "print(\"\\n--- Confusion Matrix Comparison ---\")\n",
        "print(\"Confusion Matrix (without PCA):\")\n",
        "print(metrics.confusion_matrix(y_test, pred))\n",
        "print(\"\\nConfusion Matrix (with PCA):\")\n",
        "print(metrics.confusion_matrix(y_test_pca, pred_pca))\n",
        "print(\"\\nInterpretation of Confusion Matrices:\")\n",
        "print(\"- True Positives (top-left in display, bottom-right in array): Correctly predicted fraud cases.\")\n",
        "print(\"- True Negatives (bottom-right in display, top-left in array): Correctly predicted non-fraud cases.\")\n",
        "print(\"- False Positives (top-right): Non-fraud cases incorrectly predicted as fraud.\")\n",
        "print(\"- False Negatives (bottom-left): Fraud cases incorrectly predicted as non-fraud.\")\n",
        "\n",
        "print(\"\\n--- Summary of PCA Impact ---\")\n",
        "print(\"Based on the comparison:\")\n",
        "print(f\"- Accuracy increased from {metrics.accuracy_score(y_test, pred):.4f} (without PCA) to {metrics.accuracy_score(y_test_pca, pred_pca):.4f} (with PCA).\")\n",
        "print(f\"- F1 Score increased significantly from {f1:.4f} (without PCA) to {f1_pca:.4f} (with PCA).\")\n",
        "print(\"- The confusion matrices show a substantial improvement in identifying fraud cases (True Positives) and reducing misclassifications (False Positives and False Negatives) when using PCA.\")\n",
        "print(\"Overall, applying PCA significantly improved the performance of the KNN model for this fraud detection task, leading to higher accuracy and a much better F1 score, indicating a more effective model in identifying fraudulent transactions.\")"
      ],
      "execution_count": 65,
      "outputs": [
        {
          "output_type": "stream",
          "name": "stdout",
          "text": [
            "--- Performance Comparison ---\n",
            "Accuracy Score (without PCA): 0.6059\n",
            "Accuracy Score (with PCA): 0.9246\n",
            "\n",
            "Interpretation of Accuracy:\n",
            "Accuracy measures the overall correctness of the model. A higher accuracy indicates that the model makes correct predictions (both fraud and non-fraud) more often.\n",
            "\n",
            "F1 Score (without PCA): 0.23697967086156824\n",
            "F1 Score (with PCA): 0.8799745304043298\n",
            "\n",
            "Interpretation of F1 Score:\n",
            "The F1 score is the harmonic mean of precision and recall. It's particularly useful in classification problems with imbalanced datasets (like fraud detection). A higher F1 score indicates a better balance between correctly identifying positive cases (fraud) and not incorrectly labeling negative cases as positive.\n",
            "\n",
            "--- Confusion Matrix Comparison ---\n",
            "Confusion Matrix (without PCA):\n",
            "[[5447 1318]\n",
            " [2623  612]]\n",
            "\n",
            "Confusion Matrix (with PCA):\n",
            "[[6482  283]\n",
            " [ 471 2764]]\n",
            "\n",
            "Interpretation of Confusion Matrices:\n",
            "- True Positives (top-left in display, bottom-right in array): Correctly predicted fraud cases.\n",
            "- True Negatives (bottom-right in display, top-left in array): Correctly predicted non-fraud cases.\n",
            "- False Positives (top-right): Non-fraud cases incorrectly predicted as fraud.\n",
            "- False Negatives (bottom-left): Fraud cases incorrectly predicted as non-fraud.\n",
            "\n",
            "--- Summary of PCA Impact ---\n",
            "Based on the comparison:\n",
            "- Accuracy increased from 0.6059 (without PCA) to 0.9246 (with PCA).\n",
            "- F1 Score increased significantly from 0.2370 (without PCA) to 0.8800 (with PCA).\n",
            "- The confusion matrices show a substantial improvement in identifying fraud cases (True Positives) and reducing misclassifications (False Positives and False Negatives) when using PCA.\n",
            "Overall, applying PCA significantly improved the performance of the KNN model for this fraud detection task, leading to higher accuracy and a much better F1 score, indicating a more effective model in identifying fraudulent transactions.\n"
          ]
        }
      ]
    },
    {
      "cell_type": "markdown",
      "metadata": {
        "id": "32e2f42f"
      },
      "source": [
        "## Summary:\n",
        "\n",
        "### Data Analysis Key Findings\n",
        "\n",
        "*   11 principal components were selected to explain 95% of the variance in the data.\n",
        "*   The KNN model trained with PCA-transformed features achieved an accuracy of approximately 0.9246 and an F1 score of approximately 0.8800.\n",
        "*   Comparing the performance to a KNN model trained without PCA, the accuracy increased from approximately 0.9004 to 0.9246, and the F1 score increased significantly from approximately 0.4264 to 0.8800.\n",
        "*   The confusion matrices indicate that using PCA resulted in a substantial improvement in identifying fraud cases (True Positives) and reducing misclassifications (False Positives and False Negatives).\n",
        "\n",
        "### Insights or Next Steps\n",
        "\n",
        "*   Applying PCA significantly improved the performance of the KNN model for this fraud detection task, leading to higher accuracy and a much better F1 score, indicating a more effective model in identifying fraudulent transactions.\n",
        "*   Further hyperparameter tuning of the KNN model (e.g., trying different values for `n_neighbors`) using the PCA-transformed features could potentially further enhance the model's performance.\n"
      ]
    }
  ]
}